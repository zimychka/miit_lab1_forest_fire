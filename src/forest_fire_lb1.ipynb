{
 "cells": [
  {
   "cell_type": "markdown",
   "id": "1be4ada4",
   "metadata": {},
   "source": [
    "### https://unexpectedcoder.github.io/computer-sim-labs/lab-1-ca-forest.html"
   ]
  },
  {
   "cell_type": "code",
   "execution_count": 110,
   "id": "dd3a9505",
   "metadata": {},
   "outputs": [],
   "source": [
    "import matplotlib.pyplot as plt\n",
    "import numpy as np\n",
    "from time import sleep\n",
    "from IPython.display import clear_output\n",
    "from enum import Enum\n",
    "from matplotlib.colors import ListedColormap\n",
    "from matplotlib.ticker import MaxNLocator\n",
    "import matplotlib.colors as mcolors\n",
    "from typing import Optional, Tuple, List\n"
   ]
  },
  {
   "cell_type": "code",
   "execution_count": 93,
   "id": "0b636419",
   "metadata": {},
   "outputs": [],
   "source": [
    "# \"Seed\" for the pseudorandom number generator\n",
    "seed = 1097\n",
    "# Dimensions of the cellular field\n",
    "w, h = 75, 75\n",
    "# Fraction of cells with trees\n",
    "eta = 1/2\n",
    "# Number of initially burning trees\n",
    "f = 1\n",
    "# Probability of a new tree growing\n",
    "p_g = 0.02\n",
    "# Probability of random ignition of a tree\n",
    "p_f = 2e-5\n",
    "# Model time (number of automaton updates)\n",
    "sim_time = 500"
   ]
  },
  {
   "cell_type": "code",
   "execution_count": 40,
   "id": "f8f6b403",
   "metadata": {},
   "outputs": [],
   "source": [
    "rs = np.random.RandomState(seed=seed)\n",
    "\n",
    "colors = [\"#49423D\", \"orange\", \"green\"]\n",
    "cmap_forest = ListedColormap(colors)"
   ]
  },
  {
   "cell_type": "code",
   "execution_count": 41,
   "id": "e0b06c0f",
   "metadata": {},
   "outputs": [],
   "source": [
    "Matrix = np.ndarray\n",
    "Array = np.ndarray\n",
    "Axes = plt.Axes\n",
    "Figure = plt.Figure"
   ]
  },
  {
   "cell_type": "code",
   "execution_count": 42,
   "id": "2ff8db37",
   "metadata": {},
   "outputs": [],
   "source": [
    "class NeighborhoodType(Enum):\n",
    "    CROSS = '+'\n",
    "    NEUMAN = 'x'\n",
    "    \n",
    "class CellState(Enum):\n",
    "    EMPTY = 0\n",
    "    FIRING = 1\n",
    "    TREE = 2\n",
    "    \n",
    "class CellColor(Enum):\n",
    "    EMPTY = colors[0]\n",
    "    FIRING = colors[1]\n",
    "    TREE = colors[2]"
   ]
  },
  {
   "cell_type": "code",
   "execution_count": 43,
   "id": "fd4798ca",
   "metadata": {},
   "outputs": [],
   "source": [
    "def plot_grid(ca: Matrix, ax: Optional[Axes]=None, **kw) -> Tuple[Figure, Axes]:\n",
    "    \"\"\"\n",
    "    Draws a colored grid from a matrix.\n",
    "    \n",
    "    ca - input matrix with numbers\n",
    "    ax - existing plot axes (if None, creates new)\n",
    "    **kw - optional parameters like title=\"My plot\"\n",
    "    \n",
    "    Returns: figure and axes objects\n",
    "    \"\"\"\n",
    "    if ax is None:\n",
    "        fig, ax = plt.subplots()\n",
    "\n",
    "    ax.matshow(ca, cmap=cmap_forest)\n",
    "    title = kw.get(\"title\", \"\")\n",
    "    ax.set(\n",
    "        xlabel=\"Length\",\n",
    "        ylabel=\"Width\",\n",
    "        title=title,\n",
    "        aspect=\"equal\"\n",
    "    )\n",
    "\n",
    "    return fig, ax"
   ]
  },
  {
   "cell_type": "code",
   "execution_count": 44,
   "id": "c83fc15b",
   "metadata": {},
   "outputs": [],
   "source": [
    "def create_ca(h: int, w: int) -> Matrix:\n",
    "    \"\"\"\n",
    "    Creates empty matrix of size h x w.\n",
    "    \"\"\"\n",
    "    return np.zeros((h, w))\n",
    "\n",
    "def grow_trees(ca: Matrix, eta: float) -> Matrix:\n",
    "    \"\"\"\n",
    "    Gets zeros like matrix.\n",
    "    Changes matrix depending on density eta.\n",
    "    Returns: result matrix.\n",
    "    \"\"\"\n",
    "    random_matrix = np.random.random(ca.shape) + 1e-10\n",
    "    return np.where(random_matrix <= eta, CellState.TREE.value, ca)\n",
    "\n",
    "def firing_trees(ca: Matrix, f: int) -> Matrix:\n",
    "    \"\"\"\n",
    "    Returns: matrix with random f amount of CellState.FIRING values.\n",
    "    \"\"\"\n",
    "    h, w = ca.shape\n",
    "    firing_xs = np.random.randint(low=0, high=w, size=f)\n",
    "    firing_ys = np.random.randint(low=0, high=h, size=f)\n",
    "    result = ca.copy()\n",
    "    result[firing_ys, firing_xs] = CellState.FIRING.value\n",
    "    return result\n",
    "\n",
    "def init_state(ca: Matrix, eta: float, f: int) -> Matrix:\n",
    "    \"\"\"\n",
    "    Returns: initialized matrix\n",
    "    \"\"\"\n",
    "    trees = grow_trees(ca, eta)\n",
    "    firing = firing_trees(trees, f)\n",
    "    return firing"
   ]
  },
  {
   "cell_type": "code",
   "execution_count": 45,
   "id": "4292beb6",
   "metadata": {},
   "outputs": [],
   "source": [
    "def get_neighborhood(cell: Tuple[int, int], \n",
    "                     ca_shape: Tuple[int, int], directions: Array) -> Array:\n",
    "    \"\"\"\n",
    "    Returns: indexes of surrounding cells.\n",
    "    \"\"\"\n",
    "    i, j = cell\n",
    "    h, w = ca_shape\n",
    "    neighbors = directions + np.array([i, j])\n",
    "\n",
    "    mask = ((neighbors[:, 0] >= 0) & (neighbors[:, 1] >= 0) & \n",
    "            (neighbors[:, 0] < h) & (neighbors[:, 1] < w))\n",
    "    \n",
    "    return neighbors[mask]\n",
    "\n",
    "def get_cross_neighborhood(cell: Tuple[int, int],\n",
    "                           ca_shape: Tuple[int, int]) -> Array:\n",
    "    \"\"\"\n",
    "    Returns: indexes of surrounding cells in case of \"+\"-neighborhood.\n",
    "    \"\"\"\n",
    "    directions = np.array([(-1, 0), (1, 0), (0, -1), (0, 1)])\n",
    "    neighbors = get_neighborhood(cell, ca_shape, directions)\n",
    "    return neighbors\n",
    "\n",
    "def get_neuman_neighborhood(cell: Tuple[int, int],\n",
    "                            ca_shape: Tuple[int, int]) -> Array:\n",
    "    \"\"\"\n",
    "    Returns: indexes of surrounding cells in case of \"x\"-neighborhood.\n",
    "    \"\"\"\n",
    "    directions = np.array([(-1, 0), (1, 0), (0, -1), (0, 1), \n",
    "                           (-1, -1), (1, 1), (1, -1), (-1, 1)])\n",
    "    neighbors = get_neighborhood(cell, ca_shape, directions)\n",
    "    return neighbors\n",
    "    "
   ]
  },
  {
   "cell_type": "code",
   "execution_count": 46,
   "id": "cebe9145",
   "metadata": {},
   "outputs": [],
   "source": [
    "def update_cell(ca: np.ndarray,\n",
    "                new_ca: np.ndarray,\n",
    "                cell: Tuple[int, int],\n",
    "                neighbor_indexes: Array) -> None:\n",
    "    \"\"\"\n",
    "    Updates the cell state according to evolution rules.\n",
    "    \"\"\"\n",
    "    black_cells = 0\n",
    "    firing_cells = 0\n",
    "    tree_cells = 0\n",
    "    row, col = cell\n",
    "    \n",
    "    for neighbor in neighbor_indexes:\n",
    "        i = neighbor[0]\n",
    "        j = neighbor[1]\n",
    "        if ca[i, j] == CellState.EMPTY.value:\n",
    "            black_cells += 1\n",
    "        elif ca[i, j] == CellState.FIRING.value:\n",
    "            firing_cells += 1\n",
    "        elif ca[i, j] == CellState.TREE.value:\n",
    "            tree_cells += 1\n",
    "    \n",
    "    if ca[row, col] == CellState.TREE.value and firing_cells > 0:\n",
    "        new_ca[row, col] = CellState.FIRING.value\n",
    "    elif ca[row, col] == CellState.FIRING.value:\n",
    "        new_ca[row, col] = CellState.EMPTY.value\n",
    "    elif ca[row, col] == CellState.EMPTY.value and firing_cells == 0:\n",
    "        random_result = np.random.rand()\n",
    "        if random_result <= p_g:\n",
    "            new_ca[row, col] = CellState.TREE.value\n",
    "    elif ca[row, col] == CellState.TREE.value:\n",
    "        random_result = np.random.rand()\n",
    "        if random_result <= p_f:\n",
    "            new_ca[row, col] = CellState.FIRING.value"
   ]
  },
  {
   "cell_type": "code",
   "execution_count": 47,
   "id": "09016cfe",
   "metadata": {},
   "outputs": [],
   "source": [
    "def update(ca: np.ndarray, nt: NeighborhoodType) -> Matrix:\n",
    "    \"\"\"\n",
    "    Returns: new state of ca.\n",
    "    \"\"\"\n",
    "    new_ca = ca.copy()\n",
    "    ca_shape = ca.shape\n",
    "    rows, cols = ca.shape\n",
    "    \n",
    "    for i in range(rows):\n",
    "        for j in range(cols):\n",
    "            cell = (i, j)\n",
    "            if nt == NeighborhoodType.CROSS.value:\n",
    "                neighbors = get_cross_neighborhood(cell, ca_shape)\n",
    "            elif nt == NeighborhoodType.NEUMAN.value:\n",
    "                neighbors = get_neuman_neighborhood(cell, ca_shape)\n",
    "            else:\n",
    "                raise Exception(\"Wrong value\")\n",
    "            update_cell(ca, new_ca, cell, neighbors)\n",
    "    return new_ca"
   ]
  },
  {
   "cell_type": "code",
   "execution_count": 100,
   "id": "a7fe4b89",
   "metadata": {},
   "outputs": [],
   "source": [
    "class Statistics:\n",
    "    def __init__(self):\n",
    "        self.times = []\n",
    "        self.a_firing = []\n",
    "        self.a_trees = []\n",
    "        self.a_empty = []\n",
    "    \n",
    "    def append(self, time: int, ca: np.ndarray):\n",
    "        \"\"\"\n",
    "        Append state of ca at current time\n",
    "        \"\"\"\n",
    "        values, counts = np.unique(ca, return_counts=True)\n",
    "        firing = counts[values == CellState.FIRING.value][0] if np.any(counts[values == CellState.FIRING.value]) else 0\n",
    "        trees = counts[values == CellState.TREE.value][0] if np.any(counts[values == CellState.TREE.value]) else 0\n",
    "        empty = counts[values == CellState.EMPTY.value][0] if np.any(counts[values == CellState.EMPTY.value]) else 0\n",
    "        self.times.append(time)\n",
    "        self.a_firing.append(firing)\n",
    "        self.a_trees.append(trees)\n",
    "        self.a_empty.append(empty)\n",
    "        \n",
    "    \n",
    "    def plot_firing_time(self, ax=None, **kw):\n",
    "        \"\"\"Plot number of firing trees by time\"\"\"\n",
    "        if ax is None:\n",
    "            _, ax = plt.subplots()\n",
    "        plt.plot(self.times, self.a_firing, color='red', label='Firing trees')\n",
    "        return ax\n",
    "    \n",
    "    def plot_trees_time(self, ax=None, **kw):\n",
    "        \"\"\"Plot number of healthy trees by time\"\"\"\n",
    "        if ax is None:\n",
    "            _, ax = plt.subplots()\n",
    "        plt.plot(self.times, self.a_trees, color='green', label='Green trees')\n",
    "        return ax\n",
    "    \n",
    "    def plot_empty_time(self, ax=None, **kw):\n",
    "        \"\"\"Plot number of empty cells by time\"\"\"\n",
    "        if ax is None:\n",
    "            _, ax = plt.subplots()\n",
    "        plt.plot(self.times, self.a_empty, color='black', label='Burn ground')\n",
    "        return ax"
   ]
  },
  {
   "cell_type": "code",
   "execution_count": 111,
   "id": "a32f3244",
   "metadata": {},
   "outputs": [],
   "source": [
    "def dynamic_simulation(num=500, n_type=NeighborhoodType.NEUMAN.value):\n",
    "    \"\"\"\n",
    "    Shows forest fire dynamic simulation\n",
    "    \"\"\"\n",
    "    st = Statistics()\n",
    "    empty_ca = create_ca(h, w)\n",
    "    ca = init_state(empty_ca, eta, f)\n",
    "    new_ca = ca.copy()\n",
    "    \n",
    "    for time in range(num):\n",
    "        title = f\"Time: {time}\"\n",
    "        clear_output(wait=True)\n",
    "        ca = new_ca\n",
    "        fig, ax = plot_grid(ca, title=title)\n",
    "        plt.show()\n",
    "        st.append(time, ca)\n",
    "        new_ca = update(ca, n_type)\n",
    "        \n",
    "    _, ax = plt.subplots()\n",
    "    st.plot_firing_time(ax=ax)\n",
    "    st.plot_trees_time(ax=ax)\n",
    "    st.plot_empty_time(ax=ax)\n",
    "    ax.set_title(\"Statistics by time\")\n",
    "    ax.set_xlabel(\"Time\")\n",
    "    ax.set_ylabel(\"Amount\")\n",
    "    ax.legend(loc='center left')\n",
    "    ax.set_xticks(st.times)\n",
    "    ax.xaxis.set_major_locator(MaxNLocator(nbins=10)) \n",
    "    \n",
    "    plt.show()\n"
   ]
  },
  {
   "cell_type": "code",
   "execution_count": 113,
   "id": "6cd775df",
   "metadata": {
    "scrolled": false
   },
   "outputs": [
    {
     "data": {
      "image/png": "[encoded data removed]",
      "text/plain": [
       "<Figure size 640x480 with 1 Axes>"
      ]
     },
     "metadata": {},
     "output_type": "display_data"
    },
    {
     "data": {
      "image/png": "[encoded data removed]",
      "text/plain": [
       "<Figure size 640x480 with 1 Axes>"
      ]
     },
     "metadata": {},
     "output_type": "display_data"
    }
   ],
   "source": [
    "dynamic_simulation(num=50, n_type='x')"
   ]
  },
  {
   "cell_type": "code",
   "execution_count": null,
   "id": "1073cc39",
   "metadata": {},
   "outputs": [],
   "source": []
  },
  {
   "cell_type": "markdown",
   "id": "a1a0a800",
   "metadata": {},
   "source": [
    "\n",
    "\n",
    "# TESTS\n",
    "\n"
   ]
  },
  {
   "cell_type": "code",
   "execution_count": 231,
   "id": "f6a6d01a",
   "metadata": {},
   "outputs": [
    {
     "data": {
      "text/plain": [
       "True"
      ]
     },
     "execution_count": 231,
     "metadata": {},
     "output_type": "execute_result"
    }
   ],
   "source": [
    "NeighborhoodType.CROSS.value == '+'"
   ]
  },
  {
   "cell_type": "code",
   "execution_count": 17,
   "id": "3d23b7e2",
   "metadata": {},
   "outputs": [
    {
     "data": {
      "text/plain": [
       "'orange'"
      ]
     },
     "execution_count": 17,
     "metadata": {},
     "output_type": "execute_result"
    }
   ],
   "source": [
    "CellColor.FIRING.value"
   ]
  },
  {
   "cell_type": "code",
   "execution_count": 60,
   "id": "499c723e",
   "metadata": {},
   "outputs": [
    {
     "data": {
      "text/plain": [
       "(2, 3)"
      ]
     },
     "execution_count": 60,
     "metadata": {},
     "output_type": "execute_result"
    }
   ],
   "source": [
    "matrix = np.zeros((2, 3))\n",
    "type(matrix)\n",
    "matrix.shape\n"
   ]
  },
  {
   "cell_type": "code",
   "execution_count": 34,
   "id": "1b10b1f9",
   "metadata": {},
   "outputs": [
    {
     "data": {
      "text/plain": [
       "{'monochrome': False,\n",
       " 'colors': ['#49423D', 'orange', 'green'],\n",
       " 'name': 'from_list',\n",
       " 'N': 3,\n",
       " '_rgba_bad': (0.0, 0.0, 0.0, 0.0),\n",
       " '_rgba_under': None,\n",
       " '_rgba_over': None,\n",
       " '_i_under': 3,\n",
       " '_i_over': 4,\n",
       " '_i_bad': 5,\n",
       " '_isinit': True,\n",
       " 'colorbar_extend': False,\n",
       " '_lut': array([[0.28627451, 0.25882353, 0.23921569, 1.        ],\n",
       "        [1.        , 0.64705882, 0.        , 1.        ],\n",
       "        [0.        , 0.50196078, 0.        , 1.        ],\n",
       "        [0.28627451, 0.25882353, 0.23921569, 1.        ],\n",
       "        [0.        , 0.50196078, 0.        , 1.        ],\n",
       "        [0.        , 0.        , 0.        , 0.        ]])}"
      ]
     },
     "execution_count": 34,
     "metadata": {},
     "output_type": "execute_result"
    }
   ],
   "source": [
    "cmap_forest.__dict__"
   ]
  },
  {
   "cell_type": "code",
   "execution_count": 35,
   "id": "f92ca007",
   "metadata": {},
   "outputs": [
    {
     "data": {
      "image/png": "[encoded data removed]",
      "text/html": [
       "<div style=\"vertical-align: middle;\"><strong>from_list</strong> </div><div class=\"cmap\"><img alt=\"from_list colormap\" title=\"from_list\" style=\"border: 1px solid #555;\" src=\"data:image/png;base64,iVBORw0KGgoAAAANSUhEUgAAAgAAAABACAYAAABsv8+/AAAAGHRFWHRUaXRsZQBmcm9tX2xpc3QgY29sb3JtYXBDL89FAAAAHnRFWHREZXNjcmlwdGlvbgBmcm9tX2xpc3QgY29sb3JtYXABtCnOAAAAMHRFWHRBdXRob3IATWF0cGxvdGxpYiB2My43LjIsIGh0dHBzOi8vbWF0cGxvdGxpYi5vcmcfQk4eAAAAMnRFWHRTb2Z0d2FyZQBNYXRwbG90bGliIHYzLjcuMiwgaHR0cHM6Ly9tYXRwbG90bGliLm9yZzHk0TkAAAE9SURBVHic7dYxEYNAAABBwBdNuujAIwaQgRgiIVT8MLer4Mqbv5/1muAF9u0YnQB/zefoArhnGR0AADzPAABAkAEAgCADAABBBgAAggwAAAQZAAAIMgAAEGQAACDIAABAkAEAgCADAABBBgAAggwAAAQZAAAIMgAAEGQAACDIAABAkAEAgCADAABBBgAAggwAAAQZAAAIMgAAEGQAACDIAABAkAEAgCADAABBBgAAggwAAAQZAAAIMgAAEGQAACDIAABAkAEAgCADAABBBgAAggwAAAQZAAAIMgAAEGQAACDIAABAkAEAgCADAABBBgAAggwAAAQZAAAIMgAAEGQAACDIAABAkAEAgCADAABBBgAAggwAAAQZAAAIMgAAEGQAACDIAABAkAEAgCADAABBBgAAggwAAAQZAAAI+gEnDAT/uhuPOwAAAABJRU5ErkJggg==\"></div><div style=\"vertical-align: middle; max-width: 514px; display: flex; justify-content: space-between;\"><div style=\"float: left;\"><div title=\"#49423dff\" style=\"display: inline-block; width: 1em; height: 1em; margin: 0; vertical-align: middle; border: 1px solid #555; background-color: #49423dff;\"></div> under</div><div style=\"margin: 0 auto; display: inline-block;\">bad <div title=\"#00000000\" style=\"display: inline-block; width: 1em; height: 1em; margin: 0; vertical-align: middle; border: 1px solid #555; background-color: #00000000;\"></div></div><div style=\"float: right;\">over <div title=\"#008000ff\" style=\"display: inline-block; width: 1em; height: 1em; margin: 0; vertical-align: middle; border: 1px solid #555; background-color: #008000ff;\"></div></div>"
      ],
      "text/plain": [
       "<matplotlib.colors.ListedColormap at 0x17738a480d0>"
      ]
     },
     "execution_count": 35,
     "metadata": {},
     "output_type": "execute_result"
    }
   ],
   "source": [
    "cmap_forest"
   ]
  },
  {
   "cell_type": "code",
   "execution_count": 65,
   "id": "66f73ee7",
   "metadata": {},
   "outputs": [
    {
     "data": {
      "text/plain": [
       "array([[0.66740844, 0.8666307 , 0.40132994],\n",
       "       [0.21191216, 0.2414354 , 0.04951354]])"
      ]
     },
     "execution_count": 65,
     "metadata": {},
     "output_type": "execute_result"
    }
   ],
   "source": [
    "np.random.random((2, 3)) + 1e-10"
   ]
  },
  {
   "cell_type": "code",
   "execution_count": 208,
   "id": "d68b1e99",
   "metadata": {},
   "outputs": [],
   "source": []
  },
  {
   "cell_type": "code",
   "execution_count": 222,
   "id": "ad95c3af",
   "metadata": {},
   "outputs": [
    {
     "name": "stdout",
     "output_type": "stream",
     "text": [
      "[[0. 0. 0. 2. 2. 0. 0.]\n",
      " [2. 2. 2. 0. 2. 0. 2.]\n",
      " [0. 0. 0. 0. 0. 2. 0.]\n",
      " [2. 2. 0. 0. 2. 0. 0.]\n",
      " [2. 2. 2. 0. 0. 0. 2.]]\n",
      "\n",
      "[[0. 0. 1. 2. 2. 0. 0.]\n",
      " [2. 2. 2. 0. 2. 0. 2.]\n",
      " [1. 0. 0. 0. 0. 2. 0.]\n",
      " [2. 2. 0. 0. 2. 0. 0.]\n",
      " [2. 2. 2. 0. 0. 0. 2.]]\n"
     ]
    }
   ],
   "source": [
    "zeros = create_ca(5, 7)\n",
    "trees = grow_trees(zeros, 0.5)\n",
    "print(trees)\n",
    "print()\n",
    "firing = firing_trees(trees, 2)\n",
    "print(firing)"
   ]
  },
  {
   "cell_type": "code",
   "execution_count": 240,
   "id": "52cd9ca5",
   "metadata": {},
   "outputs": [
    {
     "data": {
      "text/plain": [
       "array([[1, 2],\n",
       "       [1, 2],\n",
       "       [1, 2],\n",
       "       [1, 2]])"
      ]
     },
     "execution_count": 240,
     "metadata": {},
     "output_type": "execute_result"
    }
   ],
   "source": [
    "cell = (1, 2)\n",
    "cell_array = np.array([cell for _ in range(4)])\n",
    "cell_array"
   ]
  },
  {
   "cell_type": "code",
   "execution_count": 272,
   "id": "c9fd8e5b",
   "metadata": {},
   "outputs": [
    {
     "data": {
      "text/plain": [
       "array([[0., 0., 0.],\n",
       "       [0., 0., 0.]])"
      ]
     },
     "execution_count": 272,
     "metadata": {},
     "output_type": "execute_result"
    }
   ],
   "source": [
    "matrix"
   ]
  },
  {
   "cell_type": "code",
   "execution_count": 75,
   "id": "c6ac9eb5",
   "metadata": {},
   "outputs": [
    {
     "name": "stdout",
     "output_type": "stream",
     "text": [
      "[[None None]\n",
      " [1 2]\n",
      " [0 1]\n",
      " [0 3]]\n",
      "[[None None]\n",
      " [1 2]\n",
      " [0 1]\n",
      " [0 3]\n",
      " [None None]\n",
      " [1 3]\n",
      " [1 1]\n",
      " [None None]]\n"
     ]
    }
   ],
   "source": [
    "cell = (0, 2)\n",
    "ca_shape = (5, 7)\n",
    "\n",
    "print(get_cross_neighborhood(cell, ca_shape))\n",
    "print(get_neuman_neighborhood(cell, ca_shape))"
   ]
  },
  {
   "cell_type": "code",
   "execution_count": 90,
   "id": "dfbeddfc",
   "metadata": {},
   "outputs": [
    {
     "data": {
      "text/plain": [
       "0.43874186734630505"
      ]
     },
     "execution_count": 90,
     "metadata": {},
     "output_type": "execute_result"
    }
   ],
   "source": [
    "np.random.rand()"
   ]
  },
  {
   "cell_type": "code",
   "execution_count": 71,
   "id": "a149a951",
   "metadata": {},
   "outputs": [
    {
     "data": {
      "text/plain": [
       "array([[2, 6],\n",
       "       [4, 6],\n",
       "       [3, 5],\n",
       "       [3, 7]])"
      ]
     },
     "execution_count": 71,
     "metadata": {},
     "output_type": "execute_result"
    }
   ],
   "source": [
    "cell = (3, 6)\n",
    "ca_shape = (5, 7)\n",
    "i, j = cell\n",
    "\n",
    "get_cross_neighborhood(cell, ca_shape)"
   ]
  },
  {
   "cell_type": "code",
   "execution_count": 32,
   "id": "d86cc3d1",
   "metadata": {},
   "outputs": [
    {
     "name": "stdout",
     "output_type": "stream",
     "text": [
      "[[1 0 0]\n",
      " [0 1 0]\n",
      " [0 0 1]]\n",
      "1\n"
     ]
    },
    {
     "data": {
      "text/plain": [
       "array([6], dtype=int64)"
      ]
     },
     "execution_count": 32,
     "metadata": {},
     "output_type": "execute_result"
    }
   ],
   "source": [
    "matrix = np.eye(3, dtype=int)\n",
    "print(matrix)\n",
    "print(matrix[1, 1])\n",
    "values, counts = np.unique(matrix, return_counts=True)\n",
    "counts[values == 0]"
   ]
  },
  {
   "cell_type": "code",
   "execution_count": null,
   "id": "8ddc922b",
   "metadata": {},
   "outputs": [],
   "source": []
  },
  {
   "cell_type": "code",
   "execution_count": null,
   "id": "65fc5e78",
   "metadata": {},
   "outputs": [],
   "source": []
  }
 ],
 "metadata": {
  "kernelspec": {
   "display_name": "Python 3 (ipykernel)",
   "language": "python",
   "name": "python3"
  },
  "language_info": {
   "codemirror_mode": {
    "name": "ipython",
    "version": 3
   },
   "file_extension": ".py",
   "mimetype": "text/x-python",
   "name": "python",
   "nbconvert_exporter": "python",
   "pygments_lexer": "ipython3",
   "version": "3.11.5"
  }
 },
 "nbformat": 4,
 "nbformat_minor": 5
}
