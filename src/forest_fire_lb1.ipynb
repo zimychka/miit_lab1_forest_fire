{
 "cells": [
  {
   "cell_type": "markdown",
   "id": "1be4ada4",
   "metadata": {},
   "source": [
    "### https://unexpectedcoder.github.io/computer-sim-labs/lab-1-ca-forest.html"
   ]
  },
  {
   "cell_type": "code",
   "execution_count": 100,
   "id": "dd3a9505",
   "metadata": {},
   "outputs": [],
   "source": [
    "import matplotlib.pyplot as plt\n",
    "import numpy as np\n",
    "from time import sleep\n",
    "from IPython.display import clear_output\n",
    "from enum import Enum\n",
    "from matplotlib.colors import ListedColormap\n",
    "import matplotlib.colors as mcolors\n",
    "from typing import Optional, Tuple, List\n"
   ]
  },
  {
   "cell_type": "code",
   "execution_count": 42,
   "id": "0b636419",
   "metadata": {},
   "outputs": [],
   "source": [
    "# \"Seed\" for the pseudorandom number generator\n",
    "seed = 1097\n",
    "# Dimensions of the cellular field\n",
    "w, h = 200, 200\n",
    "# Fraction of cells with trees\n",
    "eta = 0.8\n",
    "# Number of initially burning trees\n",
    "f = 1\n",
    "# Probability of a new tree growing\n",
    "p_g = 0.02\n",
    "# Probability of random ignition of a tree\n",
    "p_f = 2e-5\n",
    "# Model time (number of automaton updates)\n",
    "sim_time = 500"
   ]
  },
  {
   "cell_type": "code",
   "execution_count": 11,
   "id": "f8f6b403",
   "metadata": {},
   "outputs": [],
   "source": [
    "rs = np.random.RandomState(seed=seed)\n",
    "\n",
    "colors = [\"#49423D\", \"orange\", \"green\"]\n",
    "cmap_forest = ListedColormap(colors)"
   ]
  },
  {
   "cell_type": "code",
   "execution_count": 43,
   "id": "e0b06c0f",
   "metadata": {},
   "outputs": [],
   "source": [
    "Matrix = np.ndarray\n",
    "Array = np.ndarray\n",
    "Axes = plt.Axes\n",
    "Figure = plt.Figure"
   ]
  },
  {
   "cell_type": "code",
   "execution_count": 13,
   "id": "2ff8db37",
   "metadata": {},
   "outputs": [],
   "source": [
    "class NeighborhoodType(Enum):\n",
    "    CROSS = '+'\n",
    "    NEUMAN = 'x'\n",
    "    \n",
    "class CellState(Enum):\n",
    "    EMPTY = 0\n",
    "    FIRING = 1\n",
    "    TREE = 2\n",
    "    \n",
    "class CellColor(Enum):\n",
    "    EMPTY = colors[0]\n",
    "    FIRING = colors[1]\n",
    "    TREE = colors[2]"
   ]
  },
  {
   "cell_type": "code",
   "execution_count": 14,
   "id": "fd4798ca",
   "metadata": {},
   "outputs": [],
   "source": [
    "def plot_grid(ca: Matrix, ax: Optional[Axes]=None, **kw) -> Tuple[Figure, Axes]:\n",
    "    \"\"\"\n",
    "    Draws a colored grid from a matrix.\n",
    "    \n",
    "    ca - input matrix with numbers\n",
    "    ax - existing plot axes (if None, creates new)\n",
    "    **kw - optional parameters like title=\"My plot\"\n",
    "    \n",
    "    Returns: figure and axes objects\n",
    "    \"\"\"\n",
    "    if ax is None:\n",
    "        fig, ax = plt.subplots()\n",
    "\n",
    "    ax.matshow(ca, cmap=cmap_forest)\n",
    "    title = kw.get(\"title\", \"\")\n",
    "    ax.set(\n",
    "        xlabel=\"Length\",\n",
    "        ylabel=\"Width\",\n",
    "        title=title,\n",
    "        aspect=\"equal\"\n",
    "    )\n",
    "\n",
    "    return fig, ax"
   ]
  },
  {
   "cell_type": "code",
   "execution_count": 77,
   "id": "c83fc15b",
   "metadata": {},
   "outputs": [],
   "source": [
    "def create_ca(h: int, w: int) -> Matrix:\n",
    "    \"\"\"\n",
    "    Creates empty matrix of size h x w.\n",
    "    \"\"\"\n",
    "    return np.zeros((h, w))\n",
    "\n",
    "def grow_trees(ca: Matrix, eta: float) -> Matrix:\n",
    "    \"\"\"\n",
    "    Gets zeros like matrix.\n",
    "    Changes matrix depending on density eta.\n",
    "    Returns: result matrix.\n",
    "    \"\"\"\n",
    "    random_matrix = np.random.random(ca.shape) + 1e-10\n",
    "    return np.where(random_matrix <= eta, CellState.TREE.value, ca)\n",
    "\n",
    "def firing_trees(ca: Matrix, f: int) -> Matrix:\n",
    "    \"\"\"\n",
    "    Returns: matrix with random f amount of CellState.FIRING values.\n",
    "    \"\"\"\n",
    "    h, w = ca.shape\n",
    "    firing_xs = np.random.randint(low=0, high=w, size=f)\n",
    "    firing_ys = np.random.randint(low=0, high=h, size=f)\n",
    "    result = ca.copy()\n",
    "    result[firing_ys, firing_xs] = CellState.FIRING.value\n",
    "    return result\n",
    "\n",
    "def init_state(ca: Matrix, eta: float, f: int) -> Matrix:\n",
    "    \"\"\"\n",
    "    Returns: initialized matrix\n",
    "    \"\"\"\n",
    "    trees = grow_trees(ca, eta)\n",
    "    firing = firing_trees(trees, f)\n",
    "    return firing"
   ]
  },
  {
   "cell_type": "code",
   "execution_count": 72,
   "id": "39ccd8f5",
   "metadata": {},
   "outputs": [],
   "source": [
    "def get_cross_neighborhood(cell: Tuple[int, int],\n",
    "                           ca_shape: Tuple[int, int]) -> Array:\n",
    "    \"\"\"\n",
    "    Returns: indexes of surrounding cells in case of \"+\"-neighborhood.\n",
    "    \"\"\"\n",
    "    \n",
    "    directions = np.array([(-1, 0), (1, 0), (0, -1), (0, 1)], dtype=object)\n",
    "    h, w = ca_shape\n",
    "    cell_array = np.array([cell for _ in range(4)])\n",
    "    neighbors = directions + cell_array\n",
    "    r, c = directions.shape\n",
    "    for row in range(r):\n",
    "        if neighbors[row][0] < 0 or neighbors[row][1] < 0:\n",
    "            neighbors[row][0] = None\n",
    "            neighbors[row][1] = None\n",
    "        elif neighbors[row][0] >= h:\n",
    "            neighbors[row][0] = None\n",
    "            neighbors[row][1] = None\n",
    "        elif neighbors[row][1] >= w:\n",
    "            neighbors[row][0] = None\n",
    "            neighbors[row][1] = None\n",
    "    return neighbors"
   ]
  },
  {
   "cell_type": "code",
   "execution_count": 74,
   "id": "c6d30e90",
   "metadata": {},
   "outputs": [],
   "source": [
    "def get_neuman_neighborhood(cell: Tuple[int, int],\n",
    "                            ca_shape: Tuple[int, int]) -> Array:\n",
    "    \"\"\"\n",
    "    Returns: indexes of surrounding cells in case of \"x\"-neighborhood.\n",
    "    \"\"\"\n",
    "    directions = np.array([(-1, 0), (1, 0), (0, -1), (0, 1), \n",
    "                           (-1, -1), (1, 1), (1, -1), (-1, 1)], dtype=object)\n",
    "    \n",
    "    h, w = ca_shape\n",
    "    cell_array = np.array([cell for _ in range(8)])\n",
    "    neighbors = directions + cell_array\n",
    "    r, c = directions.shape\n",
    "    for row in range(r):\n",
    "        if neighbors[row][0] < 0 or neighbors[row][1] < 0:\n",
    "            neighbors[row][0] = None\n",
    "            neighbors[row][1] = None\n",
    "        elif neighbors[row][0] >= h:\n",
    "            neighbors[row][0] = None\n",
    "            neighbors[row][1] = None\n",
    "        elif neighbors[row][1] >= w:\n",
    "            neighbors[row][0] = None\n",
    "            neighbors[row][1] = None\n",
    "    return neighbors"
   ]
  },
  {
   "cell_type": "code",
   "execution_count": 112,
   "id": "cebe9145",
   "metadata": {},
   "outputs": [],
   "source": [
    "def update_cell(ca: np.ndarray,\n",
    "                new_ca: np.ndarray,\n",
    "                cell: Tuple[int, int],\n",
    "                neighbor_indexes: Array) -> None:\n",
    "    \"\"\"\n",
    "    Updates the cell state according to evolution rules.\n",
    "    \"\"\"\n",
    "    rows = neighbor_indexes.shape[0]\n",
    "    black_cells = 0\n",
    "    firing_cells = 0\n",
    "    tree_cells = 0\n",
    "    row, col = cell\n",
    "    \n",
    "    for neighbor in neighbor_indexes:\n",
    "        i = neighbor[0]\n",
    "        j = neighbor[1]\n",
    "        if i != None and j != None:\n",
    "            if ca[i][j] == 0:\n",
    "                black_cells += 1\n",
    "            elif ca[i][j] == 1:\n",
    "                firing_cells += 1\n",
    "            elif ca[i][j] == 2:\n",
    "                tree_cells += 1\n",
    "    \n",
    "    if ca[row][col] == CellState.TREE.value and firing_cells > 0:\n",
    "        new_ca[row][col] = CellState.FIRING.value\n",
    "    elif ca[row][col] == CellState.FIRING.value:\n",
    "        new_ca[row][col] = CellState.EMPTY.value\n",
    "    elif ca[row][col] == CellState.EMPTY.value and firing_cells == 0:\n",
    "        random_result = np.random.rand()\n",
    "        if random_result <= p_g:\n",
    "            new_ca[row][col] = CellState.TREE.value\n",
    "    elif ca[row][col] == CellState.TREE.value:\n",
    "        random_result = np.random.rand()\n",
    "        if random_result <= p_f:\n",
    "            new_ca[row][col] = CellState.FIRING.value"
   ]
  },
  {
   "cell_type": "code",
   "execution_count": 95,
   "id": "09016cfe",
   "metadata": {},
   "outputs": [],
   "source": [
    "def update(ca: np.ndarray, nt: NeighborhoodType) -> Matrix:\n",
    "    \"\"\"\n",
    "    Returns: new state of ca.\n",
    "    \"\"\"\n",
    "    new_ca = ca.copy()\n",
    "    ca_shape = ca.shape\n",
    "    rows, cols = ca.shape\n",
    "    \n",
    "    for i in range(rows):\n",
    "        for j in range(cols):\n",
    "            cell = (i, j)\n",
    "            if nt == NeighborhoodType.CROSS.value:\n",
    "                neighbors = get_cross_neighborhood(cell, ca_shape)\n",
    "            elif nt == NeighborhoodType.NEUMAN.value:\n",
    "                neighbors = get_neuman_neighborhood(cell, ca_shape)\n",
    "            else:\n",
    "                raise Exception(\"Wrong value\")\n",
    "            update_cell(ca, new_ca, cell, neighbors)\n",
    "    return new_ca"
   ]
  },
  {
   "cell_type": "code",
   "execution_count": 121,
   "id": "7f2c3af2",
   "metadata": {},
   "outputs": [],
   "source": [
    "def dynamic_simulation():\n",
    "    \"\"\"\n",
    "    Shows forest fire dynamic simulation\n",
    "    \"\"\"\n",
    "    empty_ca = create_ca(h, w)\n",
    "    ca = init_state(empty_ca, eta, f)\n",
    "    n_type = NeighborhoodType.NEUMAN.value\n",
    "    new_ca = ca.copy()\n",
    "    \n",
    "    for time in range(200):\n",
    "        title = f\"Время: {time}\"\n",
    "        clear_output(wait=True)\n",
    "        ca = new_ca\n",
    "        fig, ax = plot_grid(ca, title=title)\n",
    "        plt.show()\n",
    "        new_ca = update(ca, n_type)\n"
   ]
  },
  {
   "cell_type": "code",
   "execution_count": 122,
   "id": "6cd775df",
   "metadata": {},
   "outputs": [
    {
     "data": {
      "image/png": "[encoded data removed]",
      "text/plain": [
       "<Figure size 640x480 with 1 Axes>"
      ]
     },
     "metadata": {},
     "output_type": "display_data"
    },
    {
     "ename": "KeyboardInterrupt",
     "evalue": "",
     "output_type": "error",
     "traceback": [
      "\u001b[1;31m---------------------------------------------------------------------------\u001b[0m",
      "\u001b[1;31mKeyboardInterrupt\u001b[0m                         Traceback (most recent call last)",
      "Cell \u001b[1;32mIn[122], line 1\u001b[0m\n\u001b[1;32m----> 1\u001b[0m dynamic_simulation()\n",
      "Cell \u001b[1;32mIn[121], line 16\u001b[0m, in \u001b[0;36mdynamic_simulation\u001b[1;34m()\u001b[0m\n\u001b[0;32m     14\u001b[0m fig, ax \u001b[38;5;241m=\u001b[39m plot_grid(ca, title\u001b[38;5;241m=\u001b[39mtitle)\n\u001b[0;32m     15\u001b[0m plt\u001b[38;5;241m.\u001b[39mshow()\n\u001b[1;32m---> 16\u001b[0m new_ca \u001b[38;5;241m=\u001b[39m update(ca, n_type)\n",
      "Cell \u001b[1;32mIn[95], line 18\u001b[0m, in \u001b[0;36mupdate\u001b[1;34m(ca, nt)\u001b[0m\n\u001b[0;32m     16\u001b[0m         \u001b[38;5;28;01melse\u001b[39;00m:\n\u001b[0;32m     17\u001b[0m             \u001b[38;5;28;01mraise\u001b[39;00m \u001b[38;5;167;01mException\u001b[39;00m(\u001b[38;5;124m\"\u001b[39m\u001b[38;5;124mWrong value\u001b[39m\u001b[38;5;124m\"\u001b[39m)\n\u001b[1;32m---> 18\u001b[0m         update_cell(ca, new_ca, cell, neighbors)\n\u001b[0;32m     19\u001b[0m \u001b[38;5;28;01mreturn\u001b[39;00m new_ca\n",
      "Cell \u001b[1;32mIn[112], line 27\u001b[0m, in \u001b[0;36mupdate_cell\u001b[1;34m(ca, new_ca, cell, neighbor_indexes)\u001b[0m\n\u001b[0;32m     25\u001b[0m \u001b[38;5;28;01mif\u001b[39;00m ca[row][col] \u001b[38;5;241m==\u001b[39m CellState\u001b[38;5;241m.\u001b[39mTREE\u001b[38;5;241m.\u001b[39mvalue \u001b[38;5;129;01mand\u001b[39;00m firing_cells \u001b[38;5;241m>\u001b[39m \u001b[38;5;241m0\u001b[39m:\n\u001b[0;32m     26\u001b[0m     new_ca[row][col] \u001b[38;5;241m=\u001b[39m CellState\u001b[38;5;241m.\u001b[39mFIRING\u001b[38;5;241m.\u001b[39mvalue\n\u001b[1;32m---> 27\u001b[0m \u001b[38;5;28;01melif\u001b[39;00m ca[row][col] \u001b[38;5;241m==\u001b[39m CellState\u001b[38;5;241m.\u001b[39mFIRING\u001b[38;5;241m.\u001b[39mvalue:\n\u001b[0;32m     28\u001b[0m     new_ca[row][col] \u001b[38;5;241m=\u001b[39m CellState\u001b[38;5;241m.\u001b[39mEMPTY\u001b[38;5;241m.\u001b[39mvalue\n\u001b[0;32m     29\u001b[0m \u001b[38;5;28;01melif\u001b[39;00m ca[row][col] \u001b[38;5;241m==\u001b[39m CellState\u001b[38;5;241m.\u001b[39mEMPTY\u001b[38;5;241m.\u001b[39mvalue \u001b[38;5;129;01mand\u001b[39;00m firing_cells \u001b[38;5;241m==\u001b[39m \u001b[38;5;241m0\u001b[39m:\n",
      "File \u001b[1;32m~\\anaconda3\\Lib\\enum.py:211\u001b[0m, in \u001b[0;36mproperty.__get__\u001b[1;34m(self, instance, ownerclass)\u001b[0m\n\u001b[0;32m    207\u001b[0m         \u001b[38;5;28;01mraise\u001b[39;00m \u001b[38;5;167;01mAttributeError\u001b[39;00m(\n\u001b[0;32m    208\u001b[0m                 \u001b[38;5;124m'\u001b[39m\u001b[38;5;132;01m%r\u001b[39;00m\u001b[38;5;124m has no attribute \u001b[39m\u001b[38;5;132;01m%r\u001b[39;00m\u001b[38;5;124m'\u001b[39m \u001b[38;5;241m%\u001b[39m (ownerclass, \u001b[38;5;28mself\u001b[39m\u001b[38;5;241m.\u001b[39mname)\n\u001b[0;32m    209\u001b[0m                 ) \u001b[38;5;28;01mfrom\u001b[39;00m \u001b[38;5;28;01mNone\u001b[39;00m\n\u001b[0;32m    210\u001b[0m \u001b[38;5;28;01melse\u001b[39;00m:\n\u001b[1;32m--> 211\u001b[0m     \u001b[38;5;28;01mreturn\u001b[39;00m \u001b[38;5;28mself\u001b[39m\u001b[38;5;241m.\u001b[39mfget(instance)\n",
      "File \u001b[1;32m~\\anaconda3\\Lib\\enum.py:1249\u001b[0m, in \u001b[0;36mEnum.value\u001b[1;34m(self)\u001b[0m\n\u001b[0;32m   1246\u001b[0m \u001b[38;5;250m    \u001b[39m\u001b[38;5;124;03m\"\"\"The name of the Enum member.\"\"\"\u001b[39;00m\n\u001b[0;32m   1247\u001b[0m     \u001b[38;5;28;01mreturn\u001b[39;00m \u001b[38;5;28mself\u001b[39m\u001b[38;5;241m.\u001b[39m_name_\n\u001b[1;32m-> 1249\u001b[0m \u001b[38;5;129m@property\u001b[39m\n\u001b[0;32m   1250\u001b[0m \u001b[38;5;28;01mdef\u001b[39;00m \u001b[38;5;21mvalue\u001b[39m(\u001b[38;5;28mself\u001b[39m):\n\u001b[0;32m   1251\u001b[0m \u001b[38;5;250m    \u001b[39m\u001b[38;5;124;03m\"\"\"The value of the Enum member.\"\"\"\u001b[39;00m\n\u001b[0;32m   1252\u001b[0m     \u001b[38;5;28;01mreturn\u001b[39;00m \u001b[38;5;28mself\u001b[39m\u001b[38;5;241m.\u001b[39m_value_\n",
      "\u001b[1;31mKeyboardInterrupt\u001b[0m: "
     ]
    }
   ],
   "source": [
    "dynamic_simulation()"
   ]
  },
  {
   "cell_type": "code",
   "execution_count": null,
   "id": "1073cc39",
   "metadata": {},
   "outputs": [],
   "source": []
  },
  {
   "cell_type": "markdown",
   "id": "a353b082",
   "metadata": {},
   "source": [
    "\n",
    "\n",
    "# TESTS\n",
    "\n"
   ]
  },
  {
   "cell_type": "code",
   "execution_count": 231,
   "id": "f6a6d01a",
   "metadata": {},
   "outputs": [
    {
     "data": {
      "text/plain": [
       "True"
      ]
     },
     "execution_count": 231,
     "metadata": {},
     "output_type": "execute_result"
    }
   ],
   "source": [
    "NeighborhoodType.CROSS.value == '+'"
   ]
  },
  {
   "cell_type": "code",
   "execution_count": 17,
   "id": "3d23b7e2",
   "metadata": {},
   "outputs": [
    {
     "data": {
      "text/plain": [
       "'orange'"
      ]
     },
     "execution_count": 17,
     "metadata": {},
     "output_type": "execute_result"
    }
   ],
   "source": [
    "CellColor.FIRING.value"
   ]
  },
  {
   "cell_type": "code",
   "execution_count": 60,
   "id": "499c723e",
   "metadata": {},
   "outputs": [
    {
     "data": {
      "text/plain": [
       "(2, 3)"
      ]
     },
     "execution_count": 60,
     "metadata": {},
     "output_type": "execute_result"
    }
   ],
   "source": [
    "matrix = np.zeros((2, 3))\n",
    "type(matrix)\n",
    "matrix.shape\n"
   ]
  },
  {
   "cell_type": "code",
   "execution_count": 34,
   "id": "1b10b1f9",
   "metadata": {},
   "outputs": [
    {
     "data": {
      "text/plain": [
       "{'monochrome': False,\n",
       " 'colors': ['#49423D', 'orange', 'green'],\n",
       " 'name': 'from_list',\n",
       " 'N': 3,\n",
       " '_rgba_bad': (0.0, 0.0, 0.0, 0.0),\n",
       " '_rgba_under': None,\n",
       " '_rgba_over': None,\n",
       " '_i_under': 3,\n",
       " '_i_over': 4,\n",
       " '_i_bad': 5,\n",
       " '_isinit': True,\n",
       " 'colorbar_extend': False,\n",
       " '_lut': array([[0.28627451, 0.25882353, 0.23921569, 1.        ],\n",
       "        [1.        , 0.64705882, 0.        , 1.        ],\n",
       "        [0.        , 0.50196078, 0.        , 1.        ],\n",
       "        [0.28627451, 0.25882353, 0.23921569, 1.        ],\n",
       "        [0.        , 0.50196078, 0.        , 1.        ],\n",
       "        [0.        , 0.        , 0.        , 0.        ]])}"
      ]
     },
     "execution_count": 34,
     "metadata": {},
     "output_type": "execute_result"
    }
   ],
   "source": [
    "cmap_forest.__dict__"
   ]
  },
  {
   "cell_type": "code",
   "execution_count": 35,
   "id": "f92ca007",
   "metadata": {},
   "outputs": [
    {
     "data": {
      "image/png": "[encoded data removed]",
      "text/html": [
       "<div style=\"vertical-align: middle;\"><strong>from_list</strong> </div><div class=\"cmap\"><img alt=\"from_list colormap\" title=\"from_list\" style=\"border: 1px solid #555;\" src=\"data:image/png;base64,iVBORw0KGgoAAAANSUhEUgAAAgAAAABACAYAAABsv8+/AAAAGHRFWHRUaXRsZQBmcm9tX2xpc3QgY29sb3JtYXBDL89FAAAAHnRFWHREZXNjcmlwdGlvbgBmcm9tX2xpc3QgY29sb3JtYXABtCnOAAAAMHRFWHRBdXRob3IATWF0cGxvdGxpYiB2My43LjIsIGh0dHBzOi8vbWF0cGxvdGxpYi5vcmcfQk4eAAAAMnRFWHRTb2Z0d2FyZQBNYXRwbG90bGliIHYzLjcuMiwgaHR0cHM6Ly9tYXRwbG90bGliLm9yZzHk0TkAAAE9SURBVHic7dYxEYNAAABBwBdNuujAIwaQgRgiIVT8MLer4Mqbv5/1muAF9u0YnQB/zefoArhnGR0AADzPAABAkAEAgCADAABBBgAAggwAAAQZAAAIMgAAEGQAACDIAABAkAEAgCADAABBBgAAggwAAAQZAAAIMgAAEGQAACDIAABAkAEAgCADAABBBgAAggwAAAQZAAAIMgAAEGQAACDIAABAkAEAgCADAABBBgAAggwAAAQZAAAIMgAAEGQAACDIAABAkAEAgCADAABBBgAAggwAAAQZAAAIMgAAEGQAACDIAABAkAEAgCADAABBBgAAggwAAAQZAAAIMgAAEGQAACDIAABAkAEAgCADAABBBgAAggwAAAQZAAAIMgAAEGQAACDIAABAkAEAgCADAABBBgAAggwAAAQZAAAI+gEnDAT/uhuPOwAAAABJRU5ErkJggg==\"></div><div style=\"vertical-align: middle; max-width: 514px; display: flex; justify-content: space-between;\"><div style=\"float: left;\"><div title=\"#49423dff\" style=\"display: inline-block; width: 1em; height: 1em; margin: 0; vertical-align: middle; border: 1px solid #555; background-color: #49423dff;\"></div> under</div><div style=\"margin: 0 auto; display: inline-block;\">bad <div title=\"#00000000\" style=\"display: inline-block; width: 1em; height: 1em; margin: 0; vertical-align: middle; border: 1px solid #555; background-color: #00000000;\"></div></div><div style=\"float: right;\">over <div title=\"#008000ff\" style=\"display: inline-block; width: 1em; height: 1em; margin: 0; vertical-align: middle; border: 1px solid #555; background-color: #008000ff;\"></div></div>"
      ],
      "text/plain": [
       "<matplotlib.colors.ListedColormap at 0x17738a480d0>"
      ]
     },
     "execution_count": 35,
     "metadata": {},
     "output_type": "execute_result"
    }
   ],
   "source": [
    "cmap_forest"
   ]
  },
  {
   "cell_type": "code",
   "execution_count": 65,
   "id": "66f73ee7",
   "metadata": {},
   "outputs": [
    {
     "data": {
      "text/plain": [
       "array([[0.66740844, 0.8666307 , 0.40132994],\n",
       "       [0.21191216, 0.2414354 , 0.04951354]])"
      ]
     },
     "execution_count": 65,
     "metadata": {},
     "output_type": "execute_result"
    }
   ],
   "source": [
    "np.random.random((2, 3)) + 1e-10"
   ]
  },
  {
   "cell_type": "code",
   "execution_count": 208,
   "id": "d68b1e99",
   "metadata": {},
   "outputs": [],
   "source": []
  },
  {
   "cell_type": "code",
   "execution_count": 222,
   "id": "ad95c3af",
   "metadata": {},
   "outputs": [
    {
     "name": "stdout",
     "output_type": "stream",
     "text": [
      "[[0. 0. 0. 2. 2. 0. 0.]\n",
      " [2. 2. 2. 0. 2. 0. 2.]\n",
      " [0. 0. 0. 0. 0. 2. 0.]\n",
      " [2. 2. 0. 0. 2. 0. 0.]\n",
      " [2. 2. 2. 0. 0. 0. 2.]]\n",
      "\n",
      "[[0. 0. 1. 2. 2. 0. 0.]\n",
      " [2. 2. 2. 0. 2. 0. 2.]\n",
      " [1. 0. 0. 0. 0. 2. 0.]\n",
      " [2. 2. 0. 0. 2. 0. 0.]\n",
      " [2. 2. 2. 0. 0. 0. 2.]]\n"
     ]
    }
   ],
   "source": [
    "zeros = create_ca(5, 7)\n",
    "trees = grow_trees(zeros, 0.5)\n",
    "print(trees)\n",
    "print()\n",
    "firing = firing_trees(trees, 2)\n",
    "print(firing)"
   ]
  },
  {
   "cell_type": "code",
   "execution_count": 240,
   "id": "52cd9ca5",
   "metadata": {},
   "outputs": [
    {
     "data": {
      "text/plain": [
       "array([[1, 2],\n",
       "       [1, 2],\n",
       "       [1, 2],\n",
       "       [1, 2]])"
      ]
     },
     "execution_count": 240,
     "metadata": {},
     "output_type": "execute_result"
    }
   ],
   "source": [
    "cell = (1, 2)\n",
    "cell_array = np.array([cell for _ in range(4)])\n",
    "cell_array"
   ]
  },
  {
   "cell_type": "code",
   "execution_count": 272,
   "id": "c9fd8e5b",
   "metadata": {},
   "outputs": [
    {
     "data": {
      "text/plain": [
       "array([[0., 0., 0.],\n",
       "       [0., 0., 0.]])"
      ]
     },
     "execution_count": 272,
     "metadata": {},
     "output_type": "execute_result"
    }
   ],
   "source": [
    "matrix"
   ]
  },
  {
   "cell_type": "code",
   "execution_count": 75,
   "id": "fe7befb9",
   "metadata": {},
   "outputs": [
    {
     "name": "stdout",
     "output_type": "stream",
     "text": [
      "[[None None]\n",
      " [1 2]\n",
      " [0 1]\n",
      " [0 3]]\n",
      "[[None None]\n",
      " [1 2]\n",
      " [0 1]\n",
      " [0 3]\n",
      " [None None]\n",
      " [1 3]\n",
      " [1 1]\n",
      " [None None]]\n"
     ]
    }
   ],
   "source": [
    "cell = (0, 2)\n",
    "ca_shape = (5, 7)\n",
    "\n",
    "print(get_cross_neighborhood(cell, ca_shape))\n",
    "print(get_neuman_neighborhood(cell, ca_shape))"
   ]
  },
  {
   "cell_type": "code",
   "execution_count": 90,
   "id": "7f9f5ec1",
   "metadata": {},
   "outputs": [
    {
     "data": {
      "text/plain": [
       "0.43874186734630505"
      ]
     },
     "execution_count": 90,
     "metadata": {},
     "output_type": "execute_result"
    }
   ],
   "source": [
    "np.random.rand()"
   ]
  },
  {
   "cell_type": "code",
   "execution_count": null,
   "id": "6680de3b",
   "metadata": {},
   "outputs": [],
   "source": []
  },
  {
   "cell_type": "code",
   "execution_count": null,
   "id": "d556a607",
   "metadata": {},
   "outputs": [],
   "source": []
  },
  {
   "cell_type": "code",
   "execution_count": null,
   "id": "294a54bd",
   "metadata": {},
   "outputs": [],
   "source": []
  },
  {
   "cell_type": "code",
   "execution_count": null,
   "id": "83b1d036",
   "metadata": {},
   "outputs": [],
   "source": []
  },
  {
   "cell_type": "code",
   "execution_count": null,
   "id": "cab79c3e",
   "metadata": {},
   "outputs": [],
   "source": []
  },
  {
   "cell_type": "code",
   "execution_count": null,
   "id": "a45f0288",
   "metadata": {},
   "outputs": [],
   "source": []
  }
 ],
 "metadata": {
  "kernelspec": {
   "display_name": "Python 3 (ipykernel)",
   "language": "python",
   "name": "python3"
  },
  "language_info": {
   "codemirror_mode": {
    "name": "ipython",
    "version": 3
   },
   "file_extension": ".py",
   "mimetype": "text/x-python",
   "name": "python",
   "nbconvert_exporter": "python",
   "pygments_lexer": "ipython3",
   "version": "3.11.5"
  }
 },
 "nbformat": 4,
 "nbformat_minor": 5
}
