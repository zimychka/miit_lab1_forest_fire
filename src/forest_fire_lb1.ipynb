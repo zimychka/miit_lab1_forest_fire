{
 "cells": [
  {
   "cell_type": "markdown",
   "id": "1be4ada4",
   "metadata": {},
   "source": [
    "### https://unexpectedcoder.github.io/computer-sim-labs/lab-1-ca-forest.html"
   ]
  },
  {
   "cell_type": "code",
   "execution_count": 100,
   "id": "dd3a9505",
   "metadata": {},
   "outputs": [],
   "source": [
    "import matplotlib.pyplot as plt\n",
    "import numpy as np\n",
    "from time import sleep\n",
    "from IPython.display import clear_output\n",
    "from enum import Enum\n",
    "from matplotlib.colors import ListedColormap\n",
    "import matplotlib.colors as mcolors\n",
    "from typing import Optional, Tuple, List\n"
   ]
  },
  {
   "cell_type": "code",
   "execution_count": 135,
   "id": "0b636419",
   "metadata": {},
   "outputs": [],
   "source": [
    "# \"Seed\" for the pseudorandom number generator\n",
    "seed = 1097\n",
    "# Dimensions of the cellular field\n",
    "w, h = 200, 200\n",
    "# Fraction of cells with trees\n",
    "eta = 1/2\n",
    "# Number of initially burning trees\n",
    "f = 1\n",
    "# Probability of a new tree growing\n",
    "p_g = 0.02\n",
    "# Probability of random ignition of a tree\n",
    "p_f = 2e-5\n",
    "# Model time (number of automaton updates)\n",
    "sim_time = 500"
   ]
  },
  {
   "cell_type": "code",
   "execution_count": 11,
   "id": "f8f6b403",
   "metadata": {},
   "outputs": [],
   "source": [
    "rs = np.random.RandomState(seed=seed)\n",
    "\n",
    "colors = [\"#49423D\", \"orange\", \"green\"]\n",
    "cmap_forest = ListedColormap(colors)"
   ]
  },
  {
   "cell_type": "code",
   "execution_count": 43,
   "id": "e0b06c0f",
   "metadata": {},
   "outputs": [],
   "source": [
    "Matrix = np.ndarray\n",
    "Array = np.ndarray\n",
    "Axes = plt.Axes\n",
    "Figure = plt.Figure"
   ]
  },
  {
   "cell_type": "code",
   "execution_count": 13,
   "id": "2ff8db37",
   "metadata": {},
   "outputs": [],
   "source": [
    "class NeighborhoodType(Enum):\n",
    "    CROSS = '+'\n",
    "    NEUMAN = 'x'\n",
    "    \n",
    "class CellState(Enum):\n",
    "    EMPTY = 0\n",
    "    FIRING = 1\n",
    "    TREE = 2\n",
    "    \n",
    "class CellColor(Enum):\n",
    "    EMPTY = colors[0]\n",
    "    FIRING = colors[1]\n",
    "    TREE = colors[2]"
   ]
  },
  {
   "cell_type": "code",
   "execution_count": 14,
   "id": "fd4798ca",
   "metadata": {},
   "outputs": [],
   "source": [
    "def plot_grid(ca: Matrix, ax: Optional[Axes]=None, **kw) -> Tuple[Figure, Axes]:\n",
    "    \"\"\"\n",
    "    Draws a colored grid from a matrix.\n",
    "    \n",
    "    ca - input matrix with numbers\n",
    "    ax - existing plot axes (if None, creates new)\n",
    "    **kw - optional parameters like title=\"My plot\"\n",
    "    \n",
    "    Returns: figure and axes objects\n",
    "    \"\"\"\n",
    "    if ax is None:\n",
    "        fig, ax = plt.subplots()\n",
    "\n",
    "    ax.matshow(ca, cmap=cmap_forest)\n",
    "    title = kw.get(\"title\", \"\")\n",
    "    ax.set(\n",
    "        xlabel=\"Length\",\n",
    "        ylabel=\"Width\",\n",
    "        title=title,\n",
    "        aspect=\"equal\"\n",
    "    )\n",
    "\n",
    "    return fig, ax"
   ]
  },
  {
   "cell_type": "code",
   "execution_count": 77,
   "id": "c83fc15b",
   "metadata": {},
   "outputs": [],
   "source": [
    "def create_ca(h: int, w: int) -> Matrix:\n",
    "    \"\"\"\n",
    "    Creates empty matrix of size h x w.\n",
    "    \"\"\"\n",
    "    return np.zeros((h, w))\n",
    "\n",
    "def grow_trees(ca: Matrix, eta: float) -> Matrix:\n",
    "    \"\"\"\n",
    "    Gets zeros like matrix.\n",
    "    Changes matrix depending on density eta.\n",
    "    Returns: result matrix.\n",
    "    \"\"\"\n",
    "    random_matrix = np.random.random(ca.shape) + 1e-10\n",
    "    return np.where(random_matrix <= eta, CellState.TREE.value, ca)\n",
    "\n",
    "def firing_trees(ca: Matrix, f: int) -> Matrix:\n",
    "    \"\"\"\n",
    "    Returns: matrix with random f amount of CellState.FIRING values.\n",
    "    \"\"\"\n",
    "    h, w = ca.shape\n",
    "    firing_xs = np.random.randint(low=0, high=w, size=f)\n",
    "    firing_ys = np.random.randint(low=0, high=h, size=f)\n",
    "    result = ca.copy()\n",
    "    result[firing_ys, firing_xs] = CellState.FIRING.value\n",
    "    return result\n",
    "\n",
    "def init_state(ca: Matrix, eta: float, f: int) -> Matrix:\n",
    "    \"\"\"\n",
    "    Returns: initialized matrix\n",
    "    \"\"\"\n",
    "    trees = grow_trees(ca, eta)\n",
    "    firing = firing_trees(trees, f)\n",
    "    return firing"
   ]
  },
  {
   "cell_type": "code",
   "execution_count": 72,
   "id": "39ccd8f5",
   "metadata": {},
   "outputs": [],
   "source": [
    "def get_cross_neighborhood(cell: Tuple[int, int],\n",
    "                           ca_shape: Tuple[int, int]) -> Array:\n",
    "    \"\"\"\n",
    "    Returns: indexes of surrounding cells in case of \"+\"-neighborhood.\n",
    "    \"\"\"\n",
    "    \n",
    "    directions = np.array([(-1, 0), (1, 0), (0, -1), (0, 1)], dtype=object)\n",
    "    h, w = ca_shape\n",
    "    cell_array = np.array([cell for _ in range(4)])\n",
    "    neighbors = directions + cell_array\n",
    "    r, c = directions.shape\n",
    "    for row in range(r):\n",
    "        if neighbors[row][0] < 0 or neighbors[row][1] < 0:\n",
    "            neighbors[row][0] = None\n",
    "            neighbors[row][1] = None\n",
    "        elif neighbors[row][0] >= h:\n",
    "            neighbors[row][0] = None\n",
    "            neighbors[row][1] = None\n",
    "        elif neighbors[row][1] >= w:\n",
    "            neighbors[row][0] = None\n",
    "            neighbors[row][1] = None\n",
    "    return neighbors"
   ]
  },
  {
   "cell_type": "code",
   "execution_count": 74,
   "id": "af708d94",
   "metadata": {},
   "outputs": [],
   "source": [
    "def get_neuman_neighborhood(cell: Tuple[int, int],\n",
    "                            ca_shape: Tuple[int, int]) -> Array:\n",
    "    \"\"\"\n",
    "    Returns: indexes of surrounding cells in case of \"x\"-neighborhood.\n",
    "    \"\"\"\n",
    "    directions = np.array([(-1, 0), (1, 0), (0, -1), (0, 1), \n",
    "                           (-1, -1), (1, 1), (1, -1), (-1, 1)], dtype=object)\n",
    "    \n",
    "    h, w = ca_shape\n",
    "    cell_array = np.array([cell for _ in range(8)])\n",
    "    neighbors = directions + cell_array\n",
    "    r, c = directions.shape\n",
    "    for row in range(r):\n",
    "        if neighbors[row][0] < 0 or neighbors[row][1] < 0:\n",
    "            neighbors[row][0] = None\n",
    "            neighbors[row][1] = None\n",
    "        elif neighbors[row][0] >= h:\n",
    "            neighbors[row][0] = None\n",
    "            neighbors[row][1] = None\n",
    "        elif neighbors[row][1] >= w:\n",
    "            neighbors[row][0] = None\n",
    "            neighbors[row][1] = None\n",
    "    return neighbors"
   ]
  },
  {
   "cell_type": "code",
   "execution_count": 123,
   "id": "cebe9145",
   "metadata": {},
   "outputs": [],
   "source": [
    "def update_cell(ca: np.ndarray,\n",
    "                new_ca: np.ndarray,\n",
    "                cell: Tuple[int, int],\n",
    "                neighbor_indexes: Array) -> None:\n",
    "    \"\"\"\n",
    "    Updates the cell state according to evolution rules.\n",
    "    \"\"\"\n",
    "    rows = neighbor_indexes.shape[0]\n",
    "    black_cells = 0\n",
    "    firing_cells = 0\n",
    "    tree_cells = 0\n",
    "    row, col = cell\n",
    "    \n",
    "    for neighbor in neighbor_indexes:\n",
    "        i = neighbor[0]\n",
    "        j = neighbor[1]\n",
    "        if i != None and j != None:\n",
    "            if ca[i][j] == CellState.EMPTY.value:\n",
    "                black_cells += 1\n",
    "            elif ca[i][j] == CellState.FIRING.value:\n",
    "                firing_cells += 1\n",
    "            elif ca[i][j] == CellState.TREE.value:\n",
    "                tree_cells += 1\n",
    "    \n",
    "    if ca[row][col] == CellState.TREE.value and firing_cells > 0:\n",
    "        new_ca[row][col] = CellState.FIRING.value\n",
    "    elif ca[row][col] == CellState.FIRING.value:\n",
    "        new_ca[row][col] = CellState.EMPTY.value\n",
    "    elif ca[row][col] == CellState.EMPTY.value and firing_cells == 0:\n",
    "        random_result = np.random.rand()\n",
    "        if random_result <= p_g:\n",
    "            new_ca[row][col] = CellState.TREE.value\n",
    "    elif ca[row][col] == CellState.TREE.value:\n",
    "        random_result = np.random.rand()\n",
    "        if random_result <= p_f:\n",
    "            new_ca[row][col] = CellState.FIRING.value"
   ]
  },
  {
   "cell_type": "code",
   "execution_count": 95,
   "id": "09016cfe",
   "metadata": {},
   "outputs": [],
   "source": [
    "def update(ca: np.ndarray, nt: NeighborhoodType) -> Matrix:\n",
    "    \"\"\"\n",
    "    Returns: new state of ca.\n",
    "    \"\"\"\n",
    "    new_ca = ca.copy()\n",
    "    ca_shape = ca.shape\n",
    "    rows, cols = ca.shape\n",
    "    \n",
    "    for i in range(rows):\n",
    "        for j in range(cols):\n",
    "            cell = (i, j)\n",
    "            if nt == NeighborhoodType.CROSS.value:\n",
    "                neighbors = get_cross_neighborhood(cell, ca_shape)\n",
    "            elif nt == NeighborhoodType.NEUMAN.value:\n",
    "                neighbors = get_neuman_neighborhood(cell, ca_shape)\n",
    "            else:\n",
    "                raise Exception(\"Wrong value\")\n",
    "            update_cell(ca, new_ca, cell, neighbors)\n",
    "    return new_ca"
   ]
  },
  {
   "cell_type": "code",
   "execution_count": 128,
   "id": "7f2c3af2",
   "metadata": {},
   "outputs": [],
   "source": [
    "def dynamic_simulation(n_type=NeighborhoodType.NEUMAN.value):\n",
    "    \"\"\"\n",
    "    Shows forest fire dynamic simulation\n",
    "    \"\"\"\n",
    "    empty_ca = create_ca(h, w)\n",
    "    ca = init_state(empty_ca, eta, f)\n",
    "    new_ca = ca.copy()\n",
    "    \n",
    "    for time in range(200):\n",
    "        title = f\"Время: {time}\"\n",
    "        clear_output(wait=True)\n",
    "        ca = new_ca\n",
    "        fig, ax = plot_grid(ca, title=title)\n",
    "        plt.show()\n",
    "        new_ca = update(ca, n_type)\n"
   ]
  },
  {
   "cell_type": "code",
   "execution_count": 136,
   "id": "6cd775df",
   "metadata": {},
   "outputs": [
    {
     "data": {
      "image/png": "[encoded data removed]",
      "text/plain": [
       "<Figure size 640x480 with 1 Axes>"
      ]
     },
     "metadata": {},
     "output_type": "display_data"
    },
    {
     "name": "stdout",
     "output_type": "stream",
     "text": [
      "Unexpected exception formatting exception. Falling back to standard exception\n"
     ]
    },
    {
     "name": "stderr",
     "output_type": "stream",
     "text": [
      "Traceback (most recent call last):\n",
      "  File \"C:\\Users\\Admin\\anaconda3\\Lib\\site-packages\\IPython\\core\\interactiveshell.py\", line 3526, in run_code\n",
      "    exec(code_obj, self.user_global_ns, self.user_ns)\n",
      "  File \"C:\\Users\\Admin\\AppData\\Local\\Temp\\ipykernel_15668\\3440446224.py\", line 1, in <module>\n",
      "    dynamic_simulation('x')\n",
      "  File \"C:\\Users\\Admin\\AppData\\Local\\Temp\\ipykernel_15668\\2823324693.py\", line 15, in dynamic_simulation\n",
      "    new_ca = update(ca, n_type)\n",
      "             ^^^^^^^^^^^^^^^^^^\n",
      "  File \"C:\\Users\\Admin\\AppData\\Local\\Temp\\ipykernel_15668\\1954471492.py\", line 15, in update\n",
      "    neighbors = get_neuman_neighborhood(cell, ca_shape)\n",
      "                ^^^^^^^^^^^^^^^^^^^^^^^^^^^^^^^^^^^^^^^\n",
      "  File \"C:\\Users\\Admin\\AppData\\Local\\Temp\\ipykernel_15668\\307580509.py\", line -1, in get_neuman_neighborhood\n",
      "KeyboardInterrupt\n",
      "\n",
      "During handling of the above exception, another exception occurred:\n",
      "\n",
      "Traceback (most recent call last):\n",
      "  File \"C:\\Users\\Admin\\anaconda3\\Lib\\site-packages\\IPython\\core\\interactiveshell.py\", line 2120, in showtraceback\n",
      "    stb = self.InteractiveTB.structured_traceback(\n",
      "          ^^^^^^^^^^^^^^^^^^^^^^^^^^^^^^^^^^^^^^^^\n",
      "  File \"C:\\Users\\Admin\\anaconda3\\Lib\\site-packages\\IPython\\core\\ultratb.py\", line 1435, in structured_traceback\n",
      "    return FormattedTB.structured_traceback(\n",
      "           ^^^^^^^^^^^^^^^^^^^^^^^^^^^^^^^^^\n",
      "  File \"C:\\Users\\Admin\\anaconda3\\Lib\\site-packages\\IPython\\core\\ultratb.py\", line 1326, in structured_traceback\n",
      "    return VerboseTB.structured_traceback(\n",
      "           ^^^^^^^^^^^^^^^^^^^^^^^^^^^^^^^\n",
      "  File \"C:\\Users\\Admin\\anaconda3\\Lib\\site-packages\\IPython\\core\\ultratb.py\", line 1173, in structured_traceback\n",
      "    formatted_exception = self.format_exception_as_a_whole(etype, evalue, etb, number_of_lines_of_context,\n",
      "                          ^^^^^^^^^^^^^^^^^^^^^^^^^^^^^^^^^^^^^^^^^^^^^^^^^^^^^^^^^^^^^^^^^^^^^^^^^^^^^^^^\n",
      "  File \"C:\\Users\\Admin\\anaconda3\\Lib\\site-packages\\IPython\\core\\ultratb.py\", line 1088, in format_exception_as_a_whole\n",
      "    frames.append(self.format_record(record))\n",
      "                  ^^^^^^^^^^^^^^^^^^^^^^^^^^\n",
      "  File \"C:\\Users\\Admin\\anaconda3\\Lib\\site-packages\\IPython\\core\\ultratb.py\", line 970, in format_record\n",
      "    frame_info.lines, Colors, self.has_colors, lvals\n",
      "    ^^^^^^^^^^^^^^^^\n",
      "  File \"C:\\Users\\Admin\\anaconda3\\Lib\\site-packages\\IPython\\core\\ultratb.py\", line 792, in lines\n",
      "    return self._sd.lines\n",
      "           ^^^^^^^^^^^^^^\n",
      "  File \"C:\\Users\\Admin\\anaconda3\\Lib\\site-packages\\stack_data\\utils.py\", line 145, in cached_property_wrapper\n",
      "    value = obj.__dict__[self.func.__name__] = self.func(obj)\n",
      "                                               ^^^^^^^^^^^^^^\n",
      "  File \"C:\\Users\\Admin\\anaconda3\\Lib\\site-packages\\stack_data\\core.py\", line 698, in lines\n",
      "    pieces = self.included_pieces\n",
      "             ^^^^^^^^^^^^^^^^^^^^\n",
      "  File \"C:\\Users\\Admin\\anaconda3\\Lib\\site-packages\\stack_data\\utils.py\", line 145, in cached_property_wrapper\n",
      "    value = obj.__dict__[self.func.__name__] = self.func(obj)\n",
      "                                               ^^^^^^^^^^^^^^\n",
      "  File \"C:\\Users\\Admin\\anaconda3\\Lib\\site-packages\\stack_data\\core.py\", line 649, in included_pieces\n",
      "    pos = scope_pieces.index(self.executing_piece)\n",
      "                             ^^^^^^^^^^^^^^^^^^^^\n",
      "  File \"C:\\Users\\Admin\\anaconda3\\Lib\\site-packages\\stack_data\\utils.py\", line 145, in cached_property_wrapper\n",
      "    value = obj.__dict__[self.func.__name__] = self.func(obj)\n",
      "                                               ^^^^^^^^^^^^^^\n",
      "  File \"C:\\Users\\Admin\\anaconda3\\Lib\\site-packages\\stack_data\\core.py\", line 628, in executing_piece\n",
      "    return only(\n",
      "           ^^^^^\n",
      "  File \"C:\\Users\\Admin\\anaconda3\\Lib\\site-packages\\executing\\executing.py\", line 164, in only\n",
      "    raise NotOneValueFound('Expected one value, found 0')\n",
      "executing.executing.NotOneValueFound: Expected one value, found 0\n"
     ]
    }
   ],
   "source": [
    "dynamic_simulation('x')"
   ]
  },
  {
   "cell_type": "code",
   "execution_count": null,
   "id": "1073cc39",
   "metadata": {},
   "outputs": [],
   "source": []
  },
  {
   "cell_type": "markdown",
   "id": "a1a0a800",
   "metadata": {},
   "source": [
    "\n",
    "\n",
    "# TESTS\n",
    "\n"
   ]
  },
  {
   "cell_type": "code",
   "execution_count": 231,
   "id": "f6a6d01a",
   "metadata": {},
   "outputs": [
    {
     "data": {
      "text/plain": [
       "True"
      ]
     },
     "execution_count": 231,
     "metadata": {},
     "output_type": "execute_result"
    }
   ],
   "source": [
    "NeighborhoodType.CROSS.value == '+'"
   ]
  },
  {
   "cell_type": "code",
   "execution_count": 17,
   "id": "3d23b7e2",
   "metadata": {},
   "outputs": [
    {
     "data": {
      "text/plain": [
       "'orange'"
      ]
     },
     "execution_count": 17,
     "metadata": {},
     "output_type": "execute_result"
    }
   ],
   "source": [
    "CellColor.FIRING.value"
   ]
  },
  {
   "cell_type": "code",
   "execution_count": 60,
   "id": "499c723e",
   "metadata": {},
   "outputs": [
    {
     "data": {
      "text/plain": [
       "(2, 3)"
      ]
     },
     "execution_count": 60,
     "metadata": {},
     "output_type": "execute_result"
    }
   ],
   "source": [
    "matrix = np.zeros((2, 3))\n",
    "type(matrix)\n",
    "matrix.shape\n"
   ]
  },
  {
   "cell_type": "code",
   "execution_count": 34,
   "id": "1b10b1f9",
   "metadata": {},
   "outputs": [
    {
     "data": {
      "text/plain": [
       "{'monochrome': False,\n",
       " 'colors': ['#49423D', 'orange', 'green'],\n",
       " 'name': 'from_list',\n",
       " 'N': 3,\n",
       " '_rgba_bad': (0.0, 0.0, 0.0, 0.0),\n",
       " '_rgba_under': None,\n",
       " '_rgba_over': None,\n",
       " '_i_under': 3,\n",
       " '_i_over': 4,\n",
       " '_i_bad': 5,\n",
       " '_isinit': True,\n",
       " 'colorbar_extend': False,\n",
       " '_lut': array([[0.28627451, 0.25882353, 0.23921569, 1.        ],\n",
       "        [1.        , 0.64705882, 0.        , 1.        ],\n",
       "        [0.        , 0.50196078, 0.        , 1.        ],\n",
       "        [0.28627451, 0.25882353, 0.23921569, 1.        ],\n",
       "        [0.        , 0.50196078, 0.        , 1.        ],\n",
       "        [0.        , 0.        , 0.        , 0.        ]])}"
      ]
     },
     "execution_count": 34,
     "metadata": {},
     "output_type": "execute_result"
    }
   ],
   "source": [
    "cmap_forest.__dict__"
   ]
  },
  {
   "cell_type": "code",
   "execution_count": 35,
   "id": "f92ca007",
   "metadata": {},
   "outputs": [
    {
     "data": {
      "image/png": "[encoded data removed]",
      "text/html": [
       "<div style=\"vertical-align: middle;\"><strong>from_list</strong> </div><div class=\"cmap\"><img alt=\"from_list colormap\" title=\"from_list\" style=\"border: 1px solid #555;\" src=\"data:image/png;base64,iVBORw0KGgoAAAANSUhEUgAAAgAAAABACAYAAABsv8+/AAAAGHRFWHRUaXRsZQBmcm9tX2xpc3QgY29sb3JtYXBDL89FAAAAHnRFWHREZXNjcmlwdGlvbgBmcm9tX2xpc3QgY29sb3JtYXABtCnOAAAAMHRFWHRBdXRob3IATWF0cGxvdGxpYiB2My43LjIsIGh0dHBzOi8vbWF0cGxvdGxpYi5vcmcfQk4eAAAAMnRFWHRTb2Z0d2FyZQBNYXRwbG90bGliIHYzLjcuMiwgaHR0cHM6Ly9tYXRwbG90bGliLm9yZzHk0TkAAAE9SURBVHic7dYxEYNAAABBwBdNuujAIwaQgRgiIVT8MLer4Mqbv5/1muAF9u0YnQB/zefoArhnGR0AADzPAABAkAEAgCADAABBBgAAggwAAAQZAAAIMgAAEGQAACDIAABAkAEAgCADAABBBgAAggwAAAQZAAAIMgAAEGQAACDIAABAkAEAgCADAABBBgAAggwAAAQZAAAIMgAAEGQAACDIAABAkAEAgCADAABBBgAAggwAAAQZAAAIMgAAEGQAACDIAABAkAEAgCADAABBBgAAggwAAAQZAAAIMgAAEGQAACDIAABAkAEAgCADAABBBgAAggwAAAQZAAAIMgAAEGQAACDIAABAkAEAgCADAABBBgAAggwAAAQZAAAIMgAAEGQAACDIAABAkAEAgCADAABBBgAAggwAAAQZAAAI+gEnDAT/uhuPOwAAAABJRU5ErkJggg==\"></div><div style=\"vertical-align: middle; max-width: 514px; display: flex; justify-content: space-between;\"><div style=\"float: left;\"><div title=\"#49423dff\" style=\"display: inline-block; width: 1em; height: 1em; margin: 0; vertical-align: middle; border: 1px solid #555; background-color: #49423dff;\"></div> under</div><div style=\"margin: 0 auto; display: inline-block;\">bad <div title=\"#00000000\" style=\"display: inline-block; width: 1em; height: 1em; margin: 0; vertical-align: middle; border: 1px solid #555; background-color: #00000000;\"></div></div><div style=\"float: right;\">over <div title=\"#008000ff\" style=\"display: inline-block; width: 1em; height: 1em; margin: 0; vertical-align: middle; border: 1px solid #555; background-color: #008000ff;\"></div></div>"
      ],
      "text/plain": [
       "<matplotlib.colors.ListedColormap at 0x17738a480d0>"
      ]
     },
     "execution_count": 35,
     "metadata": {},
     "output_type": "execute_result"
    }
   ],
   "source": [
    "cmap_forest"
   ]
  },
  {
   "cell_type": "code",
   "execution_count": 65,
   "id": "66f73ee7",
   "metadata": {},
   "outputs": [
    {
     "data": {
      "text/plain": [
       "array([[0.66740844, 0.8666307 , 0.40132994],\n",
       "       [0.21191216, 0.2414354 , 0.04951354]])"
      ]
     },
     "execution_count": 65,
     "metadata": {},
     "output_type": "execute_result"
    }
   ],
   "source": [
    "np.random.random((2, 3)) + 1e-10"
   ]
  },
  {
   "cell_type": "code",
   "execution_count": 208,
   "id": "d68b1e99",
   "metadata": {},
   "outputs": [],
   "source": []
  },
  {
   "cell_type": "code",
   "execution_count": 222,
   "id": "ad95c3af",
   "metadata": {},
   "outputs": [
    {
     "name": "stdout",
     "output_type": "stream",
     "text": [
      "[[0. 0. 0. 2. 2. 0. 0.]\n",
      " [2. 2. 2. 0. 2. 0. 2.]\n",
      " [0. 0. 0. 0. 0. 2. 0.]\n",
      " [2. 2. 0. 0. 2. 0. 0.]\n",
      " [2. 2. 2. 0. 0. 0. 2.]]\n",
      "\n",
      "[[0. 0. 1. 2. 2. 0. 0.]\n",
      " [2. 2. 2. 0. 2. 0. 2.]\n",
      " [1. 0. 0. 0. 0. 2. 0.]\n",
      " [2. 2. 0. 0. 2. 0. 0.]\n",
      " [2. 2. 2. 0. 0. 0. 2.]]\n"
     ]
    }
   ],
   "source": [
    "zeros = create_ca(5, 7)\n",
    "trees = grow_trees(zeros, 0.5)\n",
    "print(trees)\n",
    "print()\n",
    "firing = firing_trees(trees, 2)\n",
    "print(firing)"
   ]
  },
  {
   "cell_type": "code",
   "execution_count": 240,
   "id": "52cd9ca5",
   "metadata": {},
   "outputs": [
    {
     "data": {
      "text/plain": [
       "array([[1, 2],\n",
       "       [1, 2],\n",
       "       [1, 2],\n",
       "       [1, 2]])"
      ]
     },
     "execution_count": 240,
     "metadata": {},
     "output_type": "execute_result"
    }
   ],
   "source": [
    "cell = (1, 2)\n",
    "cell_array = np.array([cell for _ in range(4)])\n",
    "cell_array"
   ]
  },
  {
   "cell_type": "code",
   "execution_count": 272,
   "id": "c9fd8e5b",
   "metadata": {},
   "outputs": [
    {
     "data": {
      "text/plain": [
       "array([[0., 0., 0.],\n",
       "       [0., 0., 0.]])"
      ]
     },
     "execution_count": 272,
     "metadata": {},
     "output_type": "execute_result"
    }
   ],
   "source": [
    "matrix"
   ]
  },
  {
   "cell_type": "code",
   "execution_count": 75,
   "id": "c6ac9eb5",
   "metadata": {},
   "outputs": [
    {
     "name": "stdout",
     "output_type": "stream",
     "text": [
      "[[None None]\n",
      " [1 2]\n",
      " [0 1]\n",
      " [0 3]]\n",
      "[[None None]\n",
      " [1 2]\n",
      " [0 1]\n",
      " [0 3]\n",
      " [None None]\n",
      " [1 3]\n",
      " [1 1]\n",
      " [None None]]\n"
     ]
    }
   ],
   "source": [
    "cell = (0, 2)\n",
    "ca_shape = (5, 7)\n",
    "\n",
    "print(get_cross_neighborhood(cell, ca_shape))\n",
    "print(get_neuman_neighborhood(cell, ca_shape))"
   ]
  },
  {
   "cell_type": "code",
   "execution_count": 90,
   "id": "dfbeddfc",
   "metadata": {},
   "outputs": [
    {
     "data": {
      "text/plain": [
       "0.43874186734630505"
      ]
     },
     "execution_count": 90,
     "metadata": {},
     "output_type": "execute_result"
    }
   ],
   "source": [
    "np.random.rand()"
   ]
  },
  {
   "cell_type": "code",
   "execution_count": null,
   "id": "4d546f77",
   "metadata": {},
   "outputs": [],
   "source": []
  },
  {
   "cell_type": "code",
   "execution_count": null,
   "id": "2cfd47d1",
   "metadata": {},
   "outputs": [],
   "source": []
  },
  {
   "cell_type": "code",
   "execution_count": null,
   "id": "a149a951",
   "metadata": {},
   "outputs": [],
   "source": []
  },
  {
   "cell_type": "code",
   "execution_count": null,
   "id": "d86cc3d1",
   "metadata": {},
   "outputs": [],
   "source": []
  },
  {
   "cell_type": "code",
   "execution_count": null,
   "id": "8ddc922b",
   "metadata": {},
   "outputs": [],
   "source": []
  },
  {
   "cell_type": "code",
   "execution_count": null,
   "id": "65fc5e78",
   "metadata": {},
   "outputs": [],
   "source": []
  }
 ],
 "metadata": {
  "kernelspec": {
   "display_name": "Python 3 (ipykernel)",
   "language": "python",
   "name": "python3"
  },
  "language_info": {
   "codemirror_mode": {
    "name": "ipython",
    "version": 3
   },
   "file_extension": ".py",
   "mimetype": "text/x-python",
   "name": "python",
   "nbconvert_exporter": "python",
   "pygments_lexer": "ipython3",
   "version": "3.11.5"
  }
 },
 "nbformat": 4,
 "nbformat_minor": 5
}
