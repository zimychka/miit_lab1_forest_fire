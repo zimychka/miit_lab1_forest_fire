{
 "cells": [
  {
   "cell_type": "markdown",
   "id": "1be4ada4",
   "metadata": {},
   "source": [
    "### https://unexpectedcoder.github.io/computer-sim-labs/lab-1-ca-forest.html"
   ]
  },
  {
   "cell_type": "code",
   "execution_count": 223,
   "id": "dd3a9505",
   "metadata": {},
   "outputs": [],
   "source": [
    "import matplotlib.pyplot as plt\n",
    "import numpy as np\n",
    "from time import sleep\n",
    "from IPython.display import clear_output\n",
    "from enum import Enum\n",
    "from matplotlib.colors import ListedColormap\n",
    "from typing import Optional, Tuple, List"
   ]
  },
  {
   "cell_type": "code",
   "execution_count": 2,
   "id": "0b636419",
   "metadata": {},
   "outputs": [],
   "source": [
    "# \"Затравка\" для генератора псевдослучайных чисел\n",
    "seed = 1097\n",
    "# Размеры клеточного поля\n",
    "w, h = 200, 200\n",
    "# Доля клеток с деревьями\n",
    "eta = 0.8\n",
    "# Число изначально горящих деревьев\n",
    "f = 1\n",
    "# Вероятность вырастания нового дерева\n",
    "p_g = 0.02\n",
    "# Вероятность случайного воспламенения дерева\n",
    "p_f = 2e-5\n",
    "# Модельное время (число обновлений автомата)\n",
    "sim_time = 500"
   ]
  },
  {
   "cell_type": "code",
   "execution_count": 47,
   "id": "d64b45a5",
   "metadata": {},
   "outputs": [],
   "source": [
    "rs = np.random.RandomState(seed=seed)\n",
    "\n",
    "colors = [\"#49423D\", \"orange\", \"green\"]\n",
    "cmap_forest = ListedColormap(colors)"
   ]
  },
  {
   "cell_type": "code",
   "execution_count": 53,
   "id": "90548a70",
   "metadata": {},
   "outputs": [],
   "source": [
    "Matrix = np.ndarray\n",
    "Axes = plt.Axes\n",
    "Figure = plt.Figure"
   ]
  },
  {
   "cell_type": "code",
   "execution_count": 229,
   "id": "2ff8db37",
   "metadata": {},
   "outputs": [],
   "source": [
    "class NeighborhoodType(Enum):\n",
    "    CROSS = '+'\n",
    "    NEUMAN = 'x'\n",
    "    \n",
    "class CellState(Enum):\n",
    "    EMPTY = 0\n",
    "    FIRING = 1\n",
    "    TREE = 2\n",
    "    \n",
    "class CellColor(Enum):\n",
    "    EMPTY = colors[0]\n",
    "    FIRING = colors[1]\n",
    "    TREE = colors[2]"
   ]
  },
  {
   "cell_type": "code",
   "execution_count": 52,
   "id": "ee95ace6",
   "metadata": {},
   "outputs": [],
   "source": [
    "def plot_grid(ca: Matrix, ax: Optional[Axes]=None, **kw) -> Tuple[Figure, Axes]:\n",
    "    \"\"\"\n",
    "    Draws a colored grid from a matrix.\n",
    "    \n",
    "    ca - input matrix with numbers\n",
    "    ax - existing plot axes (if None, creates new)\n",
    "    **kw - optional parameters like title=\"My plot\"\n",
    "    \n",
    "    Returns: figure and axes objects\n",
    "    \"\"\"\n",
    "    if ax is None:\n",
    "        fig, ax = plt.subplots()\n",
    "\n",
    "    ax.matshow(ca, cmap=cmap_forest)\n",
    "    title = kw.get(\"title\", \"\")\n",
    "    ax.set(\n",
    "        xlabel=\"Length\",\n",
    "        ylabel=\"Width\",\n",
    "        title=title,\n",
    "        aspect=\"equal\"\n",
    "    )\n",
    "\n",
    "    return fig, ax"
   ]
  },
  {
   "cell_type": "code",
   "execution_count": 250,
   "id": "cf69df89",
   "metadata": {},
   "outputs": [],
   "source": [
    "def create_ca(h: int, w: int) -> Matrix:\n",
    "    \"\"\"\n",
    "    Creates empty matrix of size h x w.\n",
    "    \"\"\"\n",
    "    return np.zeros((h, w))\n",
    "\n",
    "def grow_trees(ca: Matrix, eta: float) -> Matrix:\n",
    "    \"\"\"\n",
    "    Gets zeros like matrix.\n",
    "    Changes matrix depending on density eta.\n",
    "    Returns: result matrix.\n",
    "    \"\"\"\n",
    "    random_matrix = np.random.random(ca.shape) + 1e-10\n",
    "    return np.where(random_matrix <= eta, 2, ca)\n",
    "\n",
    "def firing_trees(ca: Matrix, f: int) -> Matrix:\n",
    "    \"\"\"\n",
    "    Returns: matrix with random f amount of 2 values.\n",
    "    \"\"\"\n",
    "    h, w = ca.shape\n",
    "    firing_xs = np.random.randint(low=0, high=w, size=f)\n",
    "    firing_ys = np.random.randint(low=0, high=h, size=f)\n",
    "    result = ca.copy()\n",
    "    result[firing_ys, firing_xs] = 1\n",
    "    return result\n",
    "\n",
    "def init_state(ca: Matrix, eta: float, f: int) -> Matrix:\n",
    "    \"\"\"\n",
    "    Returns: initialized matrix\n",
    "    \"\"\"\n",
    "    trees = grow_trees(ca, eta)\n",
    "    firing = firing_trees(trees, f)\n",
    "    return firing"
   ]
  },
  {
   "cell_type": "code",
   "execution_count": 262,
   "id": "709e5367",
   "metadata": {},
   "outputs": [],
   "source": [
    "def get_cross_neighborhood(cell: Tuple[int, int],\n",
    "                           ca_shape: Tuple[int, int]):\n",
    "    \"\"\"Вернуть индексы окрестных ячеек клетки `cell = (i, j)`\n",
    "    для случая \"x\"-окрестности.\n",
    "\n",
    "    \n",
    "    Размеры КА `ca_shape = (h, w)` используются для определения\n",
    "    индексов, вышедших за границы КА (массива `ca`)..\"\"\"\n",
    "    \n",
    "    directions = np.array([(-1, 0), (1, 0), (0, -1), (0, 1)])\n",
    "    h, w = ca_shape\n",
    "    cell_array = np.array([cell for _ in range(4)])\n",
    "    neighbors = directions + cell_array\n",
    "    r, c = directions.shape\n",
    "    for row in range(r):\n",
    "        for col in range(c):\n",
    "            if neighbours[row][col] < 0:\n",
    "                neigbors[row][col] = None\n",
    "            elif neighbours[row][col] \n",
    "    \n",
    "    print(neighbors)\n",
    "    \n",
    "        \n",
    "    return None"
   ]
  },
  {
   "cell_type": "code",
   "execution_count": 267,
   "id": "d31dec91",
   "metadata": {},
   "outputs": [
    {
     "name": "stdout",
     "output_type": "stream",
     "text": [
      "[[-1  2]\n",
      " [ 1  2]\n",
      " [ 0  1]\n",
      " [ 0  3]]\n"
     ]
    }
   ],
   "source": [
    "cell = (0, 2)\n",
    "ca_shape = (5, 7)\n",
    "\n",
    "get_cross_neighborhood(cell, ca_shape)"
   ]
  },
  {
   "cell_type": "code",
   "execution_count": 243,
   "id": "41d7ed76",
   "metadata": {},
   "outputs": [
    {
     "ename": "SyntaxError",
     "evalue": "invalid syntax (2154355286.py, line 47)",
     "output_type": "error",
     "traceback": [
      "\u001b[1;36m  Cell \u001b[1;32mIn[243], line 47\u001b[1;36m\u001b[0m\n\u001b[1;33m    cell_array = np.array([cell for _ range(4)])\u001b[0m\n\u001b[1;37m                                      ^\u001b[0m\n\u001b[1;31mSyntaxError\u001b[0m\u001b[1;31m:\u001b[0m invalid syntax\n"
     ]
    }
   ],
   "source": [
    "def update(ca: np.ndarray, nt: NeighborhoodType):\n",
    "    \"\"\"Обновление всего КА.\n",
    "    \n",
    "    * `ca` - матрица КА.\n",
    "    * `nt` - тип окрестности.\n",
    "\n",
    "    Возвращает новое состояние КА.\n",
    "    \"\"\"\n",
    "    pass\n",
    "    return ...\n",
    "\n",
    "def update_cell(ca: np.ndarray,\n",
    "                new_ca: np.ndarray,\n",
    "                cell: Tuple[int, int],\n",
    "                neighbor_indexes: List[int]):\n",
    "    \"\"\"Обновление состояния заданной клетки `cell`\n",
    "    в соответствии с правилами эволюции КА.\n",
    "\n",
    "    Условия проверяются по матрице `ca`, т.е.\n",
    "    по КА в текущем состоянии.\n",
    "    Новое же состояние клетки записывается в\n",
    "    матрицу `new_ca`.\n",
    "    \n",
    "    * `ca` - матрица КА.\n",
    "    * `new_ca` - матрица КА в новом состоянии.\n",
    "    * `cell` - кортеж, хранящий пару индексов `(i, j)`\n",
    "      текущей (рассматриваемой) ячейки КА.\n",
    "    * `neighbor_indexes` - список индексов\n",
    "      (кортежей пар индексов ячеек `(i, j)`) соседей\n",
    "      рассматриваемой ячейки `cell`.\n",
    "    \"\"\"\n",
    "    pass\n",
    "\n",
    "\n",
    "\n",
    "def get_neuman_neighborhood(cell: Tuple[int, int],\n",
    "                            ca_shape: Tuple[int, int]):\n",
    "    \"\"\"Вернуть индексы окрестных ячеек клетки `cell = (i, j)`\n",
    "    для случая окрестности фон-Неймана.\n",
    "    \n",
    "    Размеры КА `ca_shape = (h, w)` используются для определения\n",
    "    индексов, вышедших за границы КА (массива `ca`).\n",
    "    \"\"\"\n",
    "    pass\n",
    "    return ..."
   ]
  },
  {
   "cell_type": "code",
   "execution_count": null,
   "id": "327d529c",
   "metadata": {},
   "outputs": [],
   "source": []
  },
  {
   "cell_type": "code",
   "execution_count": null,
   "id": "9ebce305",
   "metadata": {},
   "outputs": [],
   "source": []
  },
  {
   "cell_type": "code",
   "execution_count": null,
   "id": "06605844",
   "metadata": {},
   "outputs": [],
   "source": []
  },
  {
   "cell_type": "code",
   "execution_count": null,
   "id": "43ba5342",
   "metadata": {},
   "outputs": [],
   "source": []
  },
  {
   "cell_type": "code",
   "execution_count": null,
   "id": "588fba24",
   "metadata": {},
   "outputs": [],
   "source": []
  },
  {
   "cell_type": "code",
   "execution_count": 231,
   "id": "f6a6d01a",
   "metadata": {},
   "outputs": [
    {
     "data": {
      "text/plain": [
       "True"
      ]
     },
     "execution_count": 231,
     "metadata": {},
     "output_type": "execute_result"
    }
   ],
   "source": [
    "NeighborhoodType.CROSS.value == '+'"
   ]
  },
  {
   "cell_type": "code",
   "execution_count": 17,
   "id": "bb47b06b",
   "metadata": {},
   "outputs": [
    {
     "data": {
      "text/plain": [
       "'orange'"
      ]
     },
     "execution_count": 17,
     "metadata": {},
     "output_type": "execute_result"
    }
   ],
   "source": [
    "CellColor.FIRING.value"
   ]
  },
  {
   "cell_type": "code",
   "execution_count": 60,
   "id": "de5bba5f",
   "metadata": {},
   "outputs": [
    {
     "data": {
      "text/plain": [
       "(2, 3)"
      ]
     },
     "execution_count": 60,
     "metadata": {},
     "output_type": "execute_result"
    }
   ],
   "source": [
    "matrix = np.zeros((2, 3))\n",
    "type(matrix)\n",
    "matrix.shape\n"
   ]
  },
  {
   "cell_type": "code",
   "execution_count": 34,
   "id": "64e4f7b6",
   "metadata": {},
   "outputs": [
    {
     "data": {
      "text/plain": [
       "{'monochrome': False,\n",
       " 'colors': ['#49423D', 'orange', 'green'],\n",
       " 'name': 'from_list',\n",
       " 'N': 3,\n",
       " '_rgba_bad': (0.0, 0.0, 0.0, 0.0),\n",
       " '_rgba_under': None,\n",
       " '_rgba_over': None,\n",
       " '_i_under': 3,\n",
       " '_i_over': 4,\n",
       " '_i_bad': 5,\n",
       " '_isinit': True,\n",
       " 'colorbar_extend': False,\n",
       " '_lut': array([[0.28627451, 0.25882353, 0.23921569, 1.        ],\n",
       "        [1.        , 0.64705882, 0.        , 1.        ],\n",
       "        [0.        , 0.50196078, 0.        , 1.        ],\n",
       "        [0.28627451, 0.25882353, 0.23921569, 1.        ],\n",
       "        [0.        , 0.50196078, 0.        , 1.        ],\n",
       "        [0.        , 0.        , 0.        , 0.        ]])}"
      ]
     },
     "execution_count": 34,
     "metadata": {},
     "output_type": "execute_result"
    }
   ],
   "source": [
    "cmap_forest.__dict__"
   ]
  },
  {
   "cell_type": "code",
   "execution_count": 35,
   "id": "39afc367",
   "metadata": {},
   "outputs": [
    {
     "data": {
      "image/png": "[encoded data removed]",
      "text/html": [
       "<div style=\"vertical-align: middle;\"><strong>from_list</strong> </div><div class=\"cmap\"><img alt=\"from_list colormap\" title=\"from_list\" style=\"border: 1px solid #555;\" src=\"data:image/png;base64,iVBORw0KGgoAAAANSUhEUgAAAgAAAABACAYAAABsv8+/AAAAGHRFWHRUaXRsZQBmcm9tX2xpc3QgY29sb3JtYXBDL89FAAAAHnRFWHREZXNjcmlwdGlvbgBmcm9tX2xpc3QgY29sb3JtYXABtCnOAAAAMHRFWHRBdXRob3IATWF0cGxvdGxpYiB2My43LjIsIGh0dHBzOi8vbWF0cGxvdGxpYi5vcmcfQk4eAAAAMnRFWHRTb2Z0d2FyZQBNYXRwbG90bGliIHYzLjcuMiwgaHR0cHM6Ly9tYXRwbG90bGliLm9yZzHk0TkAAAE9SURBVHic7dYxEYNAAABBwBdNuujAIwaQgRgiIVT8MLer4Mqbv5/1muAF9u0YnQB/zefoArhnGR0AADzPAABAkAEAgCADAABBBgAAggwAAAQZAAAIMgAAEGQAACDIAABAkAEAgCADAABBBgAAggwAAAQZAAAIMgAAEGQAACDIAABAkAEAgCADAABBBgAAggwAAAQZAAAIMgAAEGQAACDIAABAkAEAgCADAABBBgAAggwAAAQZAAAIMgAAEGQAACDIAABAkAEAgCADAABBBgAAggwAAAQZAAAIMgAAEGQAACDIAABAkAEAgCADAABBBgAAggwAAAQZAAAIMgAAEGQAACDIAABAkAEAgCADAABBBgAAggwAAAQZAAAIMgAAEGQAACDIAABAkAEAgCADAABBBgAAggwAAAQZAAAI+gEnDAT/uhuPOwAAAABJRU5ErkJggg==\"></div><div style=\"vertical-align: middle; max-width: 514px; display: flex; justify-content: space-between;\"><div style=\"float: left;\"><div title=\"#49423dff\" style=\"display: inline-block; width: 1em; height: 1em; margin: 0; vertical-align: middle; border: 1px solid #555; background-color: #49423dff;\"></div> under</div><div style=\"margin: 0 auto; display: inline-block;\">bad <div title=\"#00000000\" style=\"display: inline-block; width: 1em; height: 1em; margin: 0; vertical-align: middle; border: 1px solid #555; background-color: #00000000;\"></div></div><div style=\"float: right;\">over <div title=\"#008000ff\" style=\"display: inline-block; width: 1em; height: 1em; margin: 0; vertical-align: middle; border: 1px solid #555; background-color: #008000ff;\"></div></div>"
      ],
      "text/plain": [
       "<matplotlib.colors.ListedColormap at 0x17738a480d0>"
      ]
     },
     "execution_count": 35,
     "metadata": {},
     "output_type": "execute_result"
    }
   ],
   "source": [
    "cmap_forest"
   ]
  },
  {
   "cell_type": "code",
   "execution_count": 65,
   "id": "2fac01d1",
   "metadata": {},
   "outputs": [
    {
     "data": {
      "text/plain": [
       "array([[0.66740844, 0.8666307 , 0.40132994],\n",
       "       [0.21191216, 0.2414354 , 0.04951354]])"
      ]
     },
     "execution_count": 65,
     "metadata": {},
     "output_type": "execute_result"
    }
   ],
   "source": [
    "np.random.random((2, 3)) + 1e-10"
   ]
  },
  {
   "cell_type": "code",
   "execution_count": 208,
   "id": "1b996313",
   "metadata": {},
   "outputs": [],
   "source": []
  },
  {
   "cell_type": "code",
   "execution_count": 222,
   "id": "5dbe1eb4",
   "metadata": {},
   "outputs": [
    {
     "name": "stdout",
     "output_type": "stream",
     "text": [
      "[[0. 0. 0. 2. 2. 0. 0.]\n",
      " [2. 2. 2. 0. 2. 0. 2.]\n",
      " [0. 0. 0. 0. 0. 2. 0.]\n",
      " [2. 2. 0. 0. 2. 0. 0.]\n",
      " [2. 2. 2. 0. 0. 0. 2.]]\n",
      "\n",
      "[[0. 0. 1. 2. 2. 0. 0.]\n",
      " [2. 2. 2. 0. 2. 0. 2.]\n",
      " [1. 0. 0. 0. 0. 2. 0.]\n",
      " [2. 2. 0. 0. 2. 0. 0.]\n",
      " [2. 2. 2. 0. 0. 0. 2.]]\n"
     ]
    }
   ],
   "source": [
    "zeros = create_ca(5, 7)\n",
    "trees = grow_trees(zeros, 0.5)\n",
    "print(trees)\n",
    "print()\n",
    "firing = firing_trees(trees, 2)\n",
    "print(firing)"
   ]
  },
  {
   "cell_type": "code",
   "execution_count": 240,
   "id": "0323a16e",
   "metadata": {},
   "outputs": [
    {
     "data": {
      "text/plain": [
       "array([[1, 2],\n",
       "       [1, 2],\n",
       "       [1, 2],\n",
       "       [1, 2]])"
      ]
     },
     "execution_count": 240,
     "metadata": {},
     "output_type": "execute_result"
    }
   ],
   "source": [
    "cell = (1, 2)\n",
    "cell_array = np.array([cell for _ in range(4)])\n",
    "cell_array"
   ]
  },
  {
   "cell_type": "code",
   "execution_count": 272,
   "id": "f2c11883",
   "metadata": {},
   "outputs": [
    {
     "data": {
      "text/plain": [
       "array([[0., 0., 0.],\n",
       "       [0., 0., 0.]])"
      ]
     },
     "execution_count": 272,
     "metadata": {},
     "output_type": "execute_result"
    }
   ],
   "source": [
    "matrix"
   ]
  }
 ],
 "metadata": {
  "kernelspec": {
   "display_name": "Python 3 (ipykernel)",
   "language": "python",
   "name": "python3"
  },
  "language_info": {
   "codemirror_mode": {
    "name": "ipython",
    "version": 3
   },
   "file_extension": ".py",
   "mimetype": "text/x-python",
   "name": "python",
   "nbconvert_exporter": "python",
   "pygments_lexer": "ipython3",
   "version": "3.11.5"
  }
 },
 "nbformat": 4,
 "nbformat_minor": 5
}
